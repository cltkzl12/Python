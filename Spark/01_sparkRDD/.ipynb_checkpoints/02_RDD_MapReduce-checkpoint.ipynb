{
 "cells": [
  {
   "cell_type": "markdown",
   "id": "7bf83b60",
   "metadata": {},
   "source": [
    "#### Reduction\n",
    "reduceByKey() - 키값을 기준으로 테스크 처리  \n",
    "groupByKey() - 키값을 기준으로 벨류를 묶는다  \n",
    "sortByKey() - 키값을 기준으로 정렬  \n",
    "Keys() - 키값 추출  \n",
    "values() - 벨류값 추출  "
   ]
  },
  {
   "cell_type": "code",
   "execution_count": 1,
   "id": "ca77d649",
   "metadata": {},
   "outputs": [],
   "source": [
    "# pairs = rdd.map(lambda x: (x,1))\n",
    "# count = pairs.reduceByKey(lambda a,b : a+b)"
   ]
  },
  {
   "cell_type": "markdown",
   "id": "6ed457e0",
   "metadata": {},
   "source": [
    "#### Key value 데이터에서 Key를 바꾸지 않는 경우\n",
    "map()대신 value만 다루는 mapValues() 함수를 써주자  \n",
    "Spark 내부에서 파티션을 유지할 수 있어 더욱 효율적\n",
    "\n",
    "#### mapValues()\n",
    "#### flatMapValues()  \n",
    "Value 만 다루는 연산들이지만 RDD에서 key는 유지된다  "
   ]
  },
  {
   "cell_type": "markdown",
   "id": "2c648f4b",
   "metadata": {},
   "source": [
    "# Map Reduce 활용 평균값 구하기!"
   ]
  },
  {
   "cell_type": "code",
   "execution_count": 1,
   "id": "c2a7a06e",
   "metadata": {},
   "outputs": [
    {
     "name": "stdout",
     "output_type": "stream",
     "text": [
      "23/01/14 18:21:17 WARN Utils: Your hostname, MacBook-Pro-2.local resolves to a loopback address: 127.0.0.1; using 192.168.0.21 instead (on interface en0)\n",
      "23/01/14 18:21:17 WARN Utils: Set SPARK_LOCAL_IP if you need to bind to another address\n"
     ]
    },
    {
     "name": "stderr",
     "output_type": "stream",
     "text": [
      "Setting default log level to \"WARN\".\n",
      "To adjust logging level use sc.setLogLevel(newLevel). For SparkR, use setLogLevel(newLevel).\n"
     ]
    },
    {
     "name": "stdout",
     "output_type": "stream",
     "text": [
      "23/01/14 18:21:18 WARN NativeCodeLoader: Unable to load native-hadoop library for your platform... using builtin-java classes where applicable\n",
      "23/01/14 18:21:18 WARN Utils: Service 'SparkUI' could not bind on port 4040. Attempting port 4041.\n"
     ]
    }
   ],
   "source": [
    "from pyspark import SparkConf, SparkContext\n",
    "import pandas as pd\n",
    "conf = SparkConf().setMaster(\"local\").setAppName('restaurant_reviews')\n",
    "sc = SparkContext(conf=conf)"
   ]
  },
  {
   "cell_type": "code",
   "execution_count": 2,
   "id": "e51ecf48",
   "metadata": {},
   "outputs": [
    {
     "data": {
      "text/plain": [
       "['id,item,cateogry,reviews',\n",
       " '0,짜장면,중식,125',\n",
       " '1,짬뽕,중식,235,',\n",
       " '2,김밥,분식,32',\n",
       " '3,떡볶이,분식,534',\n",
       " '4,라멘,일식,223   ',\n",
       " '5,돈가스,일식,52',\n",
       " '6,우동,일식,12',\n",
       " '7,쌀국수,아시안,312',\n",
       " '8,햄버거,패스트푸드,12',\n",
       " '9,치킨,패스트푸드,23']"
      ]
     },
     "execution_count": 2,
     "metadata": {},
     "output_type": "execute_result"
    }
   ],
   "source": [
    "lines = sc.textFile('./data/restaurant_reviews.csv')\n",
    "lines.collect()"
   ]
  },
  {
   "cell_type": "code",
   "execution_count": 3,
   "id": "8776b884",
   "metadata": {},
   "outputs": [
    {
     "name": "stderr",
     "output_type": "stream",
     "text": [
      "\r",
      "[Stage 1:>                                                          (0 + 1) / 1]\r",
      "\r",
      "                                                                                \r"
     ]
    }
   ],
   "source": [
    "header = lines.first()"
   ]
  },
  {
   "cell_type": "code",
   "execution_count": 4,
   "id": "38600fc0",
   "metadata": {},
   "outputs": [
    {
     "data": {
      "text/plain": [
       "['0,짜장면,중식,125',\n",
       " '1,짬뽕,중식,235,',\n",
       " '2,김밥,분식,32',\n",
       " '3,떡볶이,분식,534',\n",
       " '4,라멘,일식,223   ',\n",
       " '5,돈가스,일식,52',\n",
       " '6,우동,일식,12',\n",
       " '7,쌀국수,아시안,312',\n",
       " '8,햄버거,패스트푸드,12',\n",
       " '9,치킨,패스트푸드,23']"
      ]
     },
     "execution_count": 4,
     "metadata": {},
     "output_type": "execute_result"
    }
   ],
   "source": [
    "filtered_lines= lines.filter(lambda r : r != header)\n",
    "filtered_lines.collect()"
   ]
  },
  {
   "cell_type": "markdown",
   "id": "1e0b2337",
   "metadata": {},
   "source": [
    "- 필요 정보만 parse"
   ]
  },
  {
   "cell_type": "code",
   "execution_count": 6,
   "id": "afdffdd9",
   "metadata": {},
   "outputs": [
    {
     "data": {
      "text/plain": [
       "[('중식', 125),\n",
       " ('중식', 235),\n",
       " ('분식', 32),\n",
       " ('분식', 534),\n",
       " ('일식', 223),\n",
       " ('일식', 52),\n",
       " ('일식', 12),\n",
       " ('아시안', 312),\n",
       " ('패스트푸드', 12),\n",
       " ('패스트푸드', 23)]"
      ]
     },
     "execution_count": 6,
     "metadata": {},
     "output_type": "execute_result"
    }
   ],
   "source": [
    "def parse(r):\n",
    "    #'0,짜장면,중식,125'\n",
    "    fields = r.split(\",\")\n",
    "    category = fields[2]\n",
    "    reviews = int(fields[3])\n",
    "    return (category, reviews)\n",
    "categoryreviews = filtered_lines.map(parse)\n",
    "categoryreviews.collect()"
   ]
  },
  {
   "cell_type": "markdown",
   "id": "0a154f35",
   "metadata": {},
   "source": [
    "- map"
   ]
  },
  {
   "cell_type": "code",
   "execution_count": 10,
   "id": "955f0ffb",
   "metadata": {},
   "outputs": [
    {
     "data": {
      "text/plain": [
       "[('중식', (125, 1)),\n",
       " ('중식', (235, 1)),\n",
       " ('분식', (32, 1)),\n",
       " ('분식', (534, 1)),\n",
       " ('일식', (223, 1)),\n",
       " ('일식', (52, 1)),\n",
       " ('일식', (12, 1)),\n",
       " ('아시안', (312, 1)),\n",
       " ('패스트푸드', (12, 1)),\n",
       " ('패스트푸드', (23, 1))]"
      ]
     },
     "execution_count": 10,
     "metadata": {},
     "output_type": "execute_result"
    }
   ],
   "source": [
    "categoryreviews_count = categoryreviews.mapValues(lambda x : (x,1))\n",
    "categoryreviews_count.collect()"
   ]
  },
  {
   "cell_type": "markdown",
   "id": "db3cd66e",
   "metadata": {},
   "source": [
    "- reduce"
   ]
  },
  {
   "cell_type": "code",
   "execution_count": 12,
   "id": "00cee5ef",
   "metadata": {},
   "outputs": [
    {
     "data": {
      "text/plain": [
       "[('중식', (360, 2)),\n",
       " ('분식', (566, 2)),\n",
       " ('일식', (287, 3)),\n",
       " ('아시안', (312, 1)),\n",
       " ('패스트푸드', (35, 2))]"
      ]
     },
     "execution_count": 12,
     "metadata": {},
     "output_type": "execute_result"
    }
   ],
   "source": [
    "reduced = categoryreviews_count.reduceByKey(lambda x,y:(x[0]+y[0], x[1]+y[1]))\n",
    "reduced.collect()"
   ]
  },
  {
   "cell_type": "markdown",
   "id": "7808b979",
   "metadata": {},
   "source": [
    "- average"
   ]
  },
  {
   "cell_type": "code",
   "execution_count": 13,
   "id": "409cb0b7",
   "metadata": {},
   "outputs": [
    {
     "data": {
      "text/plain": [
       "[('중식', 180.0),\n",
       " ('분식', 283.0),\n",
       " ('일식', 95.66666666666667),\n",
       " ('아시안', 312.0),\n",
       " ('패스트푸드', 17.5)]"
      ]
     },
     "execution_count": 13,
     "metadata": {},
     "output_type": "execute_result"
    }
   ],
   "source": [
    "average = reduced.mapValues(lambda x:x[0]/x[1])\n",
    "average.collect()"
   ]
  },
  {
   "cell_type": "code",
   "execution_count": null,
   "id": "c5d26a5b",
   "metadata": {},
   "outputs": [],
   "source": []
  }
 ],
 "metadata": {
  "kernelspec": {
   "display_name": "Python 3 (ipykernel)",
   "language": "python",
   "name": "python3"
  },
  "language_info": {
   "codemirror_mode": {
    "name": "ipython",
    "version": 3
   },
   "file_extension": ".py",
   "mimetype": "text/x-python",
   "name": "python",
   "nbconvert_exporter": "python",
   "pygments_lexer": "ipython3",
   "version": "3.8.15"
  }
 },
 "nbformat": 4,
 "nbformat_minor": 5
}
