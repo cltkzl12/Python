{
 "cells": [
  {
   "cell_type": "markdown",
   "metadata": {},
   "source": [
    "- https://www.nyc.gov/site/tlc/about/tlc-trip-record-data.page  \n",
    "- 2020.01 데이터 다운하기  "
   ]
  },
  {
   "cell_type": "code",
   "execution_count": 1,
   "metadata": {},
   "outputs": [],
   "source": [
    "from pyspark import SparkConf, SparkContext\n",
    "import pandas as pd"
   ]
  },
  {
   "cell_type": "code",
   "execution_count": 2,
   "metadata": {},
   "outputs": [
    {
     "name": "stdout",
     "output_type": "stream",
     "text": [
      "23/01/14 17:33:56 WARN Utils: Your hostname, MacBook-Pro-2.local resolves to a loopback address: 127.0.0.1; using 192.168.0.21 instead (on interface en0)\n",
      "23/01/14 17:33:56 WARN Utils: Set SPARK_LOCAL_IP if you need to bind to another address\n"
     ]
    },
    {
     "name": "stderr",
     "output_type": "stream",
     "text": [
      "Setting default log level to \"WARN\".\n",
      "To adjust logging level use sc.setLogLevel(newLevel). For SparkR, use setLogLevel(newLevel).\n"
     ]
    },
    {
     "name": "stdout",
     "output_type": "stream",
     "text": [
      "23/01/14 17:33:56 WARN NativeCodeLoader: Unable to load native-hadoop library for your platform... using builtin-java classes where applicable\n"
     ]
    }
   ],
   "source": [
    "conf = SparkConf().setMaster(\"local\").setAppName('taxi_trips')\n",
    "sc = SparkContext(conf=conf)\n",
    "\n"
   ]
  },
  {
   "cell_type": "code",
   "execution_count": 21,
   "metadata": {},
   "outputs": [
    {
     "data": {
      "text/html": [
       "<div>\n",
       "<style scoped>\n",
       "    .dataframe tbody tr th:only-of-type {\n",
       "        vertical-align: middle;\n",
       "    }\n",
       "\n",
       "    .dataframe tbody tr th {\n",
       "        vertical-align: top;\n",
       "    }\n",
       "\n",
       "    .dataframe thead th {\n",
       "        text-align: right;\n",
       "    }\n",
       "</style>\n",
       "<table border=\"1\" class=\"dataframe\">\n",
       "  <thead>\n",
       "    <tr style=\"text-align: right;\">\n",
       "      <th></th>\n",
       "      <th>hvfhs_license_num</th>\n",
       "      <th>dispatching_base_num</th>\n",
       "      <th>originating_base_num</th>\n",
       "      <th>request_datetime</th>\n",
       "      <th>on_scene_datetime</th>\n",
       "      <th>pickup_datetime</th>\n",
       "      <th>dropoff_datetime</th>\n",
       "      <th>PULocationID</th>\n",
       "      <th>DOLocationID</th>\n",
       "      <th>trip_miles</th>\n",
       "      <th>...</th>\n",
       "      <th>sales_tax</th>\n",
       "      <th>congestion_surcharge</th>\n",
       "      <th>airport_fee</th>\n",
       "      <th>tips</th>\n",
       "      <th>driver_pay</th>\n",
       "      <th>shared_request_flag</th>\n",
       "      <th>shared_match_flag</th>\n",
       "      <th>access_a_ride_flag</th>\n",
       "      <th>wav_request_flag</th>\n",
       "      <th>wav_match_flag</th>\n",
       "    </tr>\n",
       "  </thead>\n",
       "  <tbody>\n",
       "    <tr>\n",
       "      <th>0</th>\n",
       "      <td>HV0003</td>\n",
       "      <td>B02864</td>\n",
       "      <td>B02864</td>\n",
       "      <td>2020-01-01 00:40:13</td>\n",
       "      <td>2020-01-01 00:43:34</td>\n",
       "      <td>2020-01-01 00:45:34</td>\n",
       "      <td>2020-01-01 01:02:20</td>\n",
       "      <td>148</td>\n",
       "      <td>90</td>\n",
       "      <td>1.93</td>\n",
       "      <td>...</td>\n",
       "      <td>2.70</td>\n",
       "      <td>2.75</td>\n",
       "      <td>NaN</td>\n",
       "      <td>0.0</td>\n",
       "      <td>18.25</td>\n",
       "      <td>N</td>\n",
       "      <td>N</td>\n",
       "      <td></td>\n",
       "      <td>N</td>\n",
       "      <td>N</td>\n",
       "    </tr>\n",
       "    <tr>\n",
       "      <th>1</th>\n",
       "      <td>HV0003</td>\n",
       "      <td>B02682</td>\n",
       "      <td>B02682</td>\n",
       "      <td>2020-01-01 00:42:31</td>\n",
       "      <td>2020-01-01 00:46:33</td>\n",
       "      <td>2020-01-01 00:47:50</td>\n",
       "      <td>2020-01-01 00:53:23</td>\n",
       "      <td>114</td>\n",
       "      <td>79</td>\n",
       "      <td>0.81</td>\n",
       "      <td>...</td>\n",
       "      <td>1.31</td>\n",
       "      <td>2.75</td>\n",
       "      <td>NaN</td>\n",
       "      <td>0.0</td>\n",
       "      <td>10.84</td>\n",
       "      <td>N</td>\n",
       "      <td>N</td>\n",
       "      <td></td>\n",
       "      <td>N</td>\n",
       "      <td>N</td>\n",
       "    </tr>\n",
       "    <tr>\n",
       "      <th>2</th>\n",
       "      <td>HV0003</td>\n",
       "      <td>B02764</td>\n",
       "      <td>B02764</td>\n",
       "      <td>2020-01-01 00:01:42</td>\n",
       "      <td>2020-01-01 00:02:06</td>\n",
       "      <td>2020-01-01 00:04:37</td>\n",
       "      <td>2020-01-01 00:21:49</td>\n",
       "      <td>4</td>\n",
       "      <td>125</td>\n",
       "      <td>2.53</td>\n",
       "      <td>...</td>\n",
       "      <td>1.39</td>\n",
       "      <td>2.75</td>\n",
       "      <td>NaN</td>\n",
       "      <td>3.0</td>\n",
       "      <td>11.73</td>\n",
       "      <td>N</td>\n",
       "      <td>N</td>\n",
       "      <td></td>\n",
       "      <td>N</td>\n",
       "      <td>N</td>\n",
       "    </tr>\n",
       "    <tr>\n",
       "      <th>3</th>\n",
       "      <td>HV0003</td>\n",
       "      <td>B02764</td>\n",
       "      <td>B02764</td>\n",
       "      <td>2020-01-01 00:21:23</td>\n",
       "      <td>2020-01-01 00:26:02</td>\n",
       "      <td>2020-01-01 00:26:36</td>\n",
       "      <td>2020-01-01 00:33:00</td>\n",
       "      <td>231</td>\n",
       "      <td>113</td>\n",
       "      <td>1.11</td>\n",
       "      <td>...</td>\n",
       "      <td>0.75</td>\n",
       "      <td>2.75</td>\n",
       "      <td>NaN</td>\n",
       "      <td>0.0</td>\n",
       "      <td>5.84</td>\n",
       "      <td>N</td>\n",
       "      <td>N</td>\n",
       "      <td></td>\n",
       "      <td>N</td>\n",
       "      <td>N</td>\n",
       "    </tr>\n",
       "    <tr>\n",
       "      <th>4</th>\n",
       "      <td>HV0003</td>\n",
       "      <td>B02764</td>\n",
       "      <td>B02764</td>\n",
       "      <td>2020-01-01 00:32:20</td>\n",
       "      <td>2020-01-01 00:37:06</td>\n",
       "      <td>2020-01-01 00:37:49</td>\n",
       "      <td>2020-01-01 00:46:59</td>\n",
       "      <td>114</td>\n",
       "      <td>144</td>\n",
       "      <td>1.10</td>\n",
       "      <td>...</td>\n",
       "      <td>1.03</td>\n",
       "      <td>2.75</td>\n",
       "      <td>NaN</td>\n",
       "      <td>0.0</td>\n",
       "      <td>7.69</td>\n",
       "      <td>N</td>\n",
       "      <td>N</td>\n",
       "      <td></td>\n",
       "      <td>N</td>\n",
       "      <td>N</td>\n",
       "    </tr>\n",
       "  </tbody>\n",
       "</table>\n",
       "<p>5 rows × 24 columns</p>\n",
       "</div>"
      ],
      "text/plain": [
       "  hvfhs_license_num dispatching_base_num originating_base_num  \\\n",
       "0            HV0003               B02864               B02864   \n",
       "1            HV0003               B02682               B02682   \n",
       "2            HV0003               B02764               B02764   \n",
       "3            HV0003               B02764               B02764   \n",
       "4            HV0003               B02764               B02764   \n",
       "\n",
       "     request_datetime   on_scene_datetime     pickup_datetime  \\\n",
       "0 2020-01-01 00:40:13 2020-01-01 00:43:34 2020-01-01 00:45:34   \n",
       "1 2020-01-01 00:42:31 2020-01-01 00:46:33 2020-01-01 00:47:50   \n",
       "2 2020-01-01 00:01:42 2020-01-01 00:02:06 2020-01-01 00:04:37   \n",
       "3 2020-01-01 00:21:23 2020-01-01 00:26:02 2020-01-01 00:26:36   \n",
       "4 2020-01-01 00:32:20 2020-01-01 00:37:06 2020-01-01 00:37:49   \n",
       "\n",
       "     dropoff_datetime  PULocationID  DOLocationID  trip_miles  ...  sales_tax  \\\n",
       "0 2020-01-01 01:02:20           148            90        1.93  ...       2.70   \n",
       "1 2020-01-01 00:53:23           114            79        0.81  ...       1.31   \n",
       "2 2020-01-01 00:21:49             4           125        2.53  ...       1.39   \n",
       "3 2020-01-01 00:33:00           231           113        1.11  ...       0.75   \n",
       "4 2020-01-01 00:46:59           114           144        1.10  ...       1.03   \n",
       "\n",
       "   congestion_surcharge  airport_fee  tips  driver_pay  shared_request_flag  \\\n",
       "0                  2.75          NaN   0.0       18.25                    N   \n",
       "1                  2.75          NaN   0.0       10.84                    N   \n",
       "2                  2.75          NaN   3.0       11.73                    N   \n",
       "3                  2.75          NaN   0.0        5.84                    N   \n",
       "4                  2.75          NaN   0.0        7.69                    N   \n",
       "\n",
       "   shared_match_flag  access_a_ride_flag  wav_request_flag wav_match_flag  \n",
       "0                  N                                     N              N  \n",
       "1                  N                                     N              N  \n",
       "2                  N                                     N              N  \n",
       "3                  N                                     N              N  \n",
       "4                  N                                     N              N  \n",
       "\n",
       "[5 rows x 24 columns]"
      ]
     },
     "execution_count": 21,
     "metadata": {},
     "output_type": "execute_result"
    }
   ],
   "source": [
    "tmp = pd.read_parquet('./data/fhvhv_tripdata_2020-01.parquet')\n",
    "tmp.head()\n",
    "\n"
   ]
  },
  {
   "cell_type": "code",
   "execution_count": 4,
   "metadata": {},
   "outputs": [],
   "source": [
    "tmp.to_csv('./data/fhvhv_tripdata_2020-01.csv')"
   ]
  },
  {
   "cell_type": "code",
   "execution_count": 7,
   "metadata": {},
   "outputs": [
    {
     "name": "stderr",
     "output_type": "stream",
     "text": [
      "                                                                                \r"
     ]
    }
   ],
   "source": [
    "\n",
    "#파일 경로\n",
    "dir_nm = './data/'\n",
    "file_nm = 'fhvhv_tripdata_2020-01.csv'\n",
    "\n",
    "#데이터 파싱\n",
    "lines = sc.textFile(dir_nm+file_nm)\n",
    "header = lines.first()\n"
   ]
  },
  {
   "cell_type": "code",
   "execution_count": 15,
   "metadata": {},
   "outputs": [
    {
     "data": {
      "text/plain": [
       "',hvfhs_license_num,dispatching_base_num,originating_base_num,request_datetime,on_scene_datetime,pickup_datetime,dropoff_datetime,PULocationID,DOLocationID,trip_miles,trip_time,base_passenger_fare,tolls,bcf,sales_tax,congestion_surcharge,airport_fee,tips,driver_pay,shared_request_flag,shared_match_flag,access_a_ride_flag,wav_request_flag,wav_match_flag'"
      ]
     },
     "execution_count": 15,
     "metadata": {},
     "output_type": "execute_result"
    }
   ],
   "source": [
    "lines.first()"
   ]
  },
  {
   "cell_type": "code",
   "execution_count": 16,
   "metadata": {},
   "outputs": [],
   "source": [
    "filtered_lines = lines.filter(lambda row:row != header)"
   ]
  },
  {
   "cell_type": "code",
   "execution_count": 22,
   "metadata": {},
   "outputs": [
    {
     "name": "stderr",
     "output_type": "stream",
     "text": [
      "                                                                                \r"
     ]
    }
   ],
   "source": [
    "dates = filtered_lines.map(lambda x: x.split(\",\")[6].split(\" \")[0])\n",
    "result = dates.countByValue()"
   ]
  },
  {
   "cell_type": "code",
   "execution_count": 30,
   "metadata": {},
   "outputs": [
    {
     "data": {
      "text/plain": [
       "defaultdict(int,\n",
       "            {'2020-01-01': 704847,\n",
       "             '2020-01-02': 499914,\n",
       "             '2020-01-03': 594923,\n",
       "             '2020-01-04': 657993,\n",
       "             '2020-01-05': 600651,\n",
       "             '2020-01-06': 547729,\n",
       "             '2020-01-07': 552239,\n",
       "             '2020-01-08': 596476,\n",
       "             '2020-01-09': 647768,\n",
       "             '2020-01-10': 695900,\n",
       "             '2020-01-11': 771581,\n",
       "             '2020-01-12': 672746,\n",
       "             '2020-01-13': 600215,\n",
       "             '2020-01-14': 603589,\n",
       "             '2020-01-15': 600818,\n",
       "             '2020-01-16': 669076,\n",
       "             '2020-01-17': 798340,\n",
       "             '2020-01-18': 808727,\n",
       "             '2020-01-19': 715584,\n",
       "             '2020-01-20': 592057,\n",
       "             '2020-01-21': 635964,\n",
       "             '2020-01-22': 642397,\n",
       "             '2020-01-23': 670077,\n",
       "             '2020-01-24': 756598,\n",
       "             '2020-01-25': 887656,\n",
       "             '2020-01-26': 706955,\n",
       "             '2020-01-27': 593268,\n",
       "             '2020-01-28': 610733,\n",
       "             '2020-01-29': 645290,\n",
       "             '2020-01-30': 700619,\n",
       "             '2020-01-31': 788638})"
      ]
     },
     "execution_count": 30,
     "metadata": {},
     "output_type": "execute_result"
    }
   ],
   "source": [
    "result"
   ]
  },
  {
   "cell_type": "code",
   "execution_count": 26,
   "metadata": {},
   "outputs": [
    {
     "name": "stdout",
     "output_type": "stream",
     "text": [
      "Collecting matplot\n",
      "  Using cached matplot-0.1.9-py2.py3-none-any.whl (5.0 kB)\n",
      "Collecting pyloco>=0.0.134\n",
      "  Using cached pyloco-0.0.139-py2.py3-none-any.whl (60 kB)\n",
      "Collecting matplotlib>=3.1.1\n",
      "  Downloading matplotlib-3.6.3-cp38-cp38-macosx_10_12_x86_64.whl (7.3 MB)\n",
      "\u001b[2K     \u001b[90m━━━━━━━━━━━━━━━━━━━━━━━━━━━━━━━━━━━━━━━━\u001b[0m \u001b[32m7.3/7.3 MB\u001b[0m \u001b[31m8.1 MB/s\u001b[0m eta \u001b[36m0:00:00\u001b[0m00:01\u001b[0m00:01\u001b[0m\n",
      "\u001b[?25hRequirement already satisfied: pillow>=6.2.0 in /Users/youngyong/opt/anaconda3/envs/spark/lib/python3.8/site-packages (from matplotlib>=3.1.1->matplot) (9.4.0)\n",
      "Collecting fonttools>=4.22.0\n",
      "  Downloading fonttools-4.38.0-py3-none-any.whl (965 kB)\n",
      "\u001b[2K     \u001b[90m━━━━━━━━━━━━━━━━━━━━━━━━━━━━━━━━━━━━━━━\u001b[0m \u001b[32m965.4/965.4 kB\u001b[0m \u001b[31m7.0 MB/s\u001b[0m eta \u001b[36m0:00:00\u001b[0ma \u001b[36m0:00:01\u001b[0m\n",
      "\u001b[?25hCollecting kiwisolver>=1.0.1\n",
      "  Downloading kiwisolver-1.4.4-cp38-cp38-macosx_10_9_x86_64.whl (65 kB)\n",
      "\u001b[2K     \u001b[90m━━━━━━━━━━━━━━━━━━━━━━━━━━━━━━━━━━━━━━━━\u001b[0m \u001b[32m65.4/65.4 kB\u001b[0m \u001b[31m2.3 MB/s\u001b[0m eta \u001b[36m0:00:00\u001b[0m\n",
      "\u001b[?25hCollecting pyparsing>=2.2.1\n",
      "  Using cached pyparsing-3.0.9-py3-none-any.whl (98 kB)\n",
      "Requirement already satisfied: numpy>=1.19 in /Users/youngyong/opt/anaconda3/envs/spark/lib/python3.8/site-packages (from matplotlib>=3.1.1->matplot) (1.24.1)\n",
      "Requirement already satisfied: python-dateutil>=2.7 in /Users/youngyong/opt/anaconda3/envs/spark/lib/python3.8/site-packages (from matplotlib>=3.1.1->matplot) (2.8.2)\n",
      "Collecting cycler>=0.10\n",
      "  Downloading cycler-0.11.0-py3-none-any.whl (6.4 kB)\n",
      "Collecting contourpy>=1.0.1\n",
      "  Downloading contourpy-1.0.7-cp38-cp38-macosx_10_9_x86_64.whl (243 kB)\n",
      "\u001b[2K     \u001b[90m━━━━━━━━━━━━━━━━━━━━━━━━━━━━━━━━━━━━━━━\u001b[0m \u001b[32m244.0/244.0 kB\u001b[0m \u001b[31m5.1 MB/s\u001b[0m eta \u001b[36m0:00:00\u001b[0ma \u001b[36m0:00:01\u001b[0m\n",
      "\u001b[?25hRequirement already satisfied: packaging>=20.0 in /Users/youngyong/opt/anaconda3/envs/spark/lib/python3.8/site-packages (from matplotlib>=3.1.1->matplot) (23.0)\n",
      "Collecting SimpleWebSocketServer\n",
      "  Downloading SimpleWebSocketServer-0.1.2.tar.gz (10 kB)\n",
      "  Preparing metadata (setup.py) ... \u001b[?25ldone\n",
      "\u001b[?25hRequirement already satisfied: websocket-client in /Users/youngyong/opt/anaconda3/envs/spark/lib/python3.8/site-packages (from pyloco>=0.0.134->matplot) (1.4.2)\n",
      "Collecting typing\n",
      "  Using cached typing-3.7.4.3.tar.gz (78 kB)\n",
      "  Preparing metadata (setup.py) ... \u001b[?25ldone\n",
      "\u001b[?25hCollecting ushlex\n",
      "  Using cached ushlex-0.99.1.tar.gz (4.7 kB)\n",
      "  Preparing metadata (setup.py) ... \u001b[?25ldone\n",
      "\u001b[?25hCollecting twine\n",
      "  Downloading twine-4.0.2-py3-none-any.whl (36 kB)\n",
      "Requirement already satisfied: six>=1.5 in /Users/youngyong/opt/anaconda3/envs/spark/lib/python3.8/site-packages (from python-dateutil>=2.7->matplotlib>=3.1.1->matplot) (1.16.0)\n",
      "Collecting requests-toolbelt!=0.9.0,>=0.8.0\n",
      "  Downloading requests_toolbelt-0.10.1-py2.py3-none-any.whl (54 kB)\n",
      "\u001b[2K     \u001b[90m━━━━━━━━━━━━━━━━━━━━━━━━━━━━━━━━━━━━━━━━\u001b[0m \u001b[32m54.5/54.5 kB\u001b[0m \u001b[31m2.0 MB/s\u001b[0m eta \u001b[36m0:00:00\u001b[0m\n",
      "\u001b[?25hRequirement already satisfied: importlib-metadata>=3.6 in /Users/youngyong/opt/anaconda3/envs/spark/lib/python3.8/site-packages (from twine->pyloco>=0.0.134->matplot) (6.0.0)\n",
      "Requirement already satisfied: rich>=12.0.0 in /Users/youngyong/opt/anaconda3/envs/spark/lib/python3.8/site-packages (from twine->pyloco>=0.0.134->matplot) (13.0.1)\n",
      "Collecting keyring>=15.1\n",
      "  Downloading keyring-23.13.1-py3-none-any.whl (37 kB)\n",
      "Collecting pkginfo>=1.8.1\n",
      "  Downloading pkginfo-1.9.6-py3-none-any.whl (30 kB)\n",
      "Collecting readme-renderer>=35.0\n",
      "  Downloading readme_renderer-37.3-py3-none-any.whl (14 kB)\n",
      "Collecting rfc3986>=1.4.0\n",
      "  Downloading rfc3986-2.0.0-py2.py3-none-any.whl (31 kB)\n",
      "Requirement already satisfied: requests>=2.20 in /Users/youngyong/opt/anaconda3/envs/spark/lib/python3.8/site-packages (from twine->pyloco>=0.0.134->matplot) (2.28.2)\n",
      "Requirement already satisfied: urllib3>=1.26.0 in /Users/youngyong/opt/anaconda3/envs/spark/lib/python3.8/site-packages (from twine->pyloco>=0.0.134->matplot) (1.26.14)\n",
      "Requirement already satisfied: zipp>=0.5 in /Users/youngyong/opt/anaconda3/envs/spark/lib/python3.8/site-packages (from importlib-metadata>=3.6->twine->pyloco>=0.0.134->matplot) (3.11.0)\n",
      "Requirement already satisfied: importlib-resources in /Users/youngyong/opt/anaconda3/envs/spark/lib/python3.8/site-packages (from keyring>=15.1->twine->pyloco>=0.0.134->matplot) (5.10.2)\n",
      "Collecting jaraco.classes\n",
      "  Downloading jaraco.classes-3.2.3-py3-none-any.whl (6.0 kB)\n",
      "Collecting docutils>=0.13.1\n",
      "  Downloading docutils-0.19-py3-none-any.whl (570 kB)\n",
      "\u001b[2K     \u001b[90m━━━━━━━━━━━━━━━━━━━━━━━━━━━━━━━━━━━━━━━\u001b[0m \u001b[32m570.5/570.5 kB\u001b[0m \u001b[31m4.3 MB/s\u001b[0m eta \u001b[36m0:00:00\u001b[0m00:01\u001b[0m00:01\u001b[0m\n",
      "\u001b[?25hRequirement already satisfied: bleach>=2.1.0 in /Users/youngyong/opt/anaconda3/envs/spark/lib/python3.8/site-packages (from readme-renderer>=35.0->twine->pyloco>=0.0.134->matplot) (5.0.1)\n",
      "Requirement already satisfied: Pygments>=2.5.1 in /Users/youngyong/opt/anaconda3/envs/spark/lib/python3.8/site-packages (from readme-renderer>=35.0->twine->pyloco>=0.0.134->matplot) (2.14.0)\n",
      "Requirement already satisfied: idna<4,>=2.5 in /Users/youngyong/opt/anaconda3/envs/spark/lib/python3.8/site-packages (from requests>=2.20->twine->pyloco>=0.0.134->matplot) (3.4)\n",
      "Requirement already satisfied: charset-normalizer<4,>=2 in /Users/youngyong/opt/anaconda3/envs/spark/lib/python3.8/site-packages (from requests>=2.20->twine->pyloco>=0.0.134->matplot) (3.0.1)\n",
      "Requirement already satisfied: certifi>=2017.4.17 in /Users/youngyong/opt/anaconda3/envs/spark/lib/python3.8/site-packages (from requests>=2.20->twine->pyloco>=0.0.134->matplot) (2022.12.7)\n",
      "Requirement already satisfied: typing-extensions<5.0,>=4.0.0 in /Users/youngyong/opt/anaconda3/envs/spark/lib/python3.8/site-packages (from rich>=12.0.0->twine->pyloco>=0.0.134->matplot) (4.4.0)\n",
      "Requirement already satisfied: commonmark<0.10.0,>=0.9.0 in /Users/youngyong/opt/anaconda3/envs/spark/lib/python3.8/site-packages (from rich>=12.0.0->twine->pyloco>=0.0.134->matplot) (0.9.1)\n",
      "Requirement already satisfied: webencodings in /Users/youngyong/opt/anaconda3/envs/spark/lib/python3.8/site-packages (from bleach>=2.1.0->readme-renderer>=35.0->twine->pyloco>=0.0.134->matplot) (0.5.1)\n",
      "Collecting more-itertools\n",
      "  Downloading more_itertools-9.0.0-py3-none-any.whl (52 kB)\n",
      "\u001b[2K     \u001b[90m━━━━━━━━━━━━━━━━━━━━━━━━━━━━━━━━━━━━━━━━\u001b[0m \u001b[32m52.8/52.8 kB\u001b[0m \u001b[31m1.7 MB/s\u001b[0m eta \u001b[36m0:00:00\u001b[0m\n",
      "\u001b[?25hBuilding wheels for collected packages: SimpleWebSocketServer, typing, ushlex\n",
      "  Building wheel for SimpleWebSocketServer (setup.py) ... \u001b[?25ldone\n",
      "\u001b[?25h  Created wheel for SimpleWebSocketServer: filename=SimpleWebSocketServer-0.1.2-py3-none-any.whl size=9664 sha256=37fe90a8a6c96fb0518649831e55f10d85a0bfc7b0af2614480b3f7d9d3e91d8\n",
      "  Stored in directory: /Users/youngyong/Library/Caches/pip/wheels/88/2c/43/cef5e5ce7e6b3278e789207b0ab4be155d6a5bc2ddb1f46d40\n",
      "  Building wheel for typing (setup.py) ... \u001b[?25ldone\n",
      "\u001b[?25h  Created wheel for typing: filename=typing-3.7.4.3-py3-none-any.whl size=26306 sha256=448b3b1fabc53da8ca3f5ef72bfd00ea53e3e604727123e9c90556af80274254\n",
      "  Stored in directory: /Users/youngyong/Library/Caches/pip/wheels/3c/67/e6/f18c54806af15a742468564ece3748d4ce1adfbf9414578d77\n",
      "  Building wheel for ushlex (setup.py) ... \u001b[?25ldone\n",
      "\u001b[?25h  Created wheel for ushlex: filename=ushlex-0.99.1-py3-none-any.whl size=4393 sha256=6b52b439021740d884c91e1691e8b0f893b62c0df0aca237bbfe82077c3bd95d\n",
      "  Stored in directory: /Users/youngyong/Library/Caches/pip/wheels/98/46/b7/fa09afc8c72d3fe3adfe6e7cc789a1cb7e8e119a5fa5339718\n",
      "Successfully built SimpleWebSocketServer typing ushlex\n",
      "Installing collected packages: ushlex, SimpleWebSocketServer, typing, rfc3986, pyparsing, pkginfo, more-itertools, kiwisolver, fonttools, docutils, cycler, contourpy, requests-toolbelt, readme-renderer, matplotlib, jaraco.classes, keyring, twine, pyloco, matplot\n",
      "Successfully installed SimpleWebSocketServer-0.1.2 contourpy-1.0.7 cycler-0.11.0 docutils-0.19 fonttools-4.38.0 jaraco.classes-3.2.3 keyring-23.13.1 kiwisolver-1.4.4 matplot-0.1.9 matplotlib-3.6.3 more-itertools-9.0.0 pkginfo-1.9.6 pyloco-0.0.139 pyparsing-3.0.9 readme-renderer-37.3 requests-toolbelt-0.10.1 rfc3986-2.0.0 twine-4.0.2 typing-3.7.4.3 ushlex-0.99.1\n"
     ]
    }
   ],
   "source": [
    "!pip install matplot"
   ]
  },
  {
   "cell_type": "code",
   "execution_count": 31,
   "metadata": {},
   "outputs": [
    {
     "data": {
      "text/plain": [
       "<AxesSubplot: >"
      ]
     },
     "execution_count": 31,
     "metadata": {},
     "output_type": "execute_result"
    },
    {
     "data": {
      "image/png": "[encoded data removed]",
      "text/plain": [
       "<Figure size 640x480 with 1 Axes>"
      ]
     },
     "metadata": {},
     "output_type": "display_data"
    }
   ],
   "source": [
    "import matplotlib.pyplot as plt\n",
    "%matplotlib inline\n",
    "\n",
    "pd.Series(result,name='trips').plot()"
   ]
  },
  {
   "cell_type": "markdown",
   "metadata": {},
   "source": [
    "rdd  \n",
    "resilient distributed datasets (탄력적 분산 데이터 세트)  \n",
    "rdd.map(<task>)  \n"
   ]
  },
  {
   "cell_type": "code",
   "execution_count": null,
   "metadata": {},
   "outputs": [],
   "source": []
  }
 ],
 "metadata": {
  "kernelspec": {
   "display_name": "Python 3",
   "language": "python",
   "name": "python3"
  },
  "language_info": {
   "codemirror_mode": {
    "name": "ipython",
    "version": 3
   },
   "file_extension": ".py",
   "mimetype": "text/x-python",
   "name": "python",
   "nbconvert_exporter": "python",
   "pygments_lexer": "ipython3",
   "version": "3.7.9"
  }
 },
 "nbformat": 4,
 "nbformat_minor": 5
}
