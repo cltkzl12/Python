{
 "cells": [
  {
   "cell_type": "markdown",
   "metadata": {},
   "source": [
    "# Data Load"
   ]
  },
  {
   "cell_type": "code",
   "execution_count": 1,
   "metadata": {},
   "outputs": [],
   "source": [
    "import pandas as pd"
   ]
  },
  {
   "cell_type": "code",
   "execution_count": 2,
   "metadata": {},
   "outputs": [
    {
     "name": "stdout",
     "output_type": "stream",
     "text": [
      "There is data stored\n",
      "Last data fetch completed\n"
     ]
    }
   ],
   "source": [
    "from modules.data_store import data_store"
   ]
  },
  {
   "cell_type": "code",
   "execution_count": 3,
   "metadata": {},
   "outputs": [
    {
     "name": "stdout",
     "output_type": "stream",
     "text": [
      "Load the saved pickle file\n"
     ]
    }
   ],
   "source": [
    "data_store = data_store()"
   ]
  },
  {
   "cell_type": "code",
   "execution_count": 4,
   "metadata": {},
   "outputs": [
    {
     "data": {
      "text/html": [
       "<div>\n",
       "<style scoped>\n",
       "    .dataframe tbody tr th:only-of-type {\n",
       "        vertical-align: middle;\n",
       "    }\n",
       "\n",
       "    .dataframe tbody tr th {\n",
       "        vertical-align: top;\n",
       "    }\n",
       "\n",
       "    .dataframe thead th {\n",
       "        text-align: right;\n",
       "    }\n",
       "</style>\n",
       "<table border=\"1\" class=\"dataframe\">\n",
       "  <thead>\n",
       "    <tr style=\"text-align: right;\">\n",
       "      <th></th>\n",
       "      <th>DAT</th>\n",
       "      <th>predicted_weight_g</th>\n",
       "      <th>train/test</th>\n",
       "      <th>file_num</th>\n",
       "      <th>obs_time</th>\n",
       "      <th>내부온도관측치</th>\n",
       "      <th>내부습도관측치</th>\n",
       "      <th>co2관측치</th>\n",
       "      <th>ec관측치</th>\n",
       "      <th>시간당분무량</th>\n",
       "      <th>...</th>\n",
       "      <th>시간당적색광량</th>\n",
       "      <th>일간누적적색광량</th>\n",
       "      <th>시간당청색광량</th>\n",
       "      <th>일간누적청색광량</th>\n",
       "      <th>시간당총광량</th>\n",
       "      <th>일간누적총광량</th>\n",
       "      <th>sum</th>\n",
       "      <th>total_sum</th>\n",
       "      <th>weight</th>\n",
       "      <th>target</th>\n",
       "    </tr>\n",
       "  </thead>\n",
       "  <tbody>\n",
       "    <tr>\n",
       "      <th>0</th>\n",
       "      <td>1</td>\n",
       "      <td>1.918119</td>\n",
       "      <td>CASE</td>\n",
       "      <td>08</td>\n",
       "      <td>00:00</td>\n",
       "      <td>27.680000</td>\n",
       "      <td>73.026667</td>\n",
       "      <td>466.750000</td>\n",
       "      <td>0.0</td>\n",
       "      <td>61.7</td>\n",
       "      <td>...</td>\n",
       "      <td>0.0</td>\n",
       "      <td>0.0</td>\n",
       "      <td>0.0</td>\n",
       "      <td>0.0</td>\n",
       "      <td>0.0</td>\n",
       "      <td>0.0</td>\n",
       "      <td>629.156667</td>\n",
       "      <td>381790.957381</td>\n",
       "      <td>0.001648</td>\n",
       "      <td>0.003161</td>\n",
       "    </tr>\n",
       "    <tr>\n",
       "      <th>1</th>\n",
       "      <td>1</td>\n",
       "      <td>1.918119</td>\n",
       "      <td>CASE</td>\n",
       "      <td>08</td>\n",
       "      <td>01:00</td>\n",
       "      <td>27.770000</td>\n",
       "      <td>73.120000</td>\n",
       "      <td>464.516667</td>\n",
       "      <td>0.0</td>\n",
       "      <td>61.7</td>\n",
       "      <td>...</td>\n",
       "      <td>0.0</td>\n",
       "      <td>0.0</td>\n",
       "      <td>0.0</td>\n",
       "      <td>0.0</td>\n",
       "      <td>0.0</td>\n",
       "      <td>0.0</td>\n",
       "      <td>627.106666</td>\n",
       "      <td>381790.957381</td>\n",
       "      <td>0.001643</td>\n",
       "      <td>0.003151</td>\n",
       "    </tr>\n",
       "    <tr>\n",
       "      <th>2</th>\n",
       "      <td>1</td>\n",
       "      <td>1.918119</td>\n",
       "      <td>CASE</td>\n",
       "      <td>08</td>\n",
       "      <td>02:00</td>\n",
       "      <td>27.766666</td>\n",
       "      <td>73.130001</td>\n",
       "      <td>466.233333</td>\n",
       "      <td>0.0</td>\n",
       "      <td>61.7</td>\n",
       "      <td>...</td>\n",
       "      <td>0.0</td>\n",
       "      <td>0.0</td>\n",
       "      <td>0.0</td>\n",
       "      <td>0.0</td>\n",
       "      <td>0.0</td>\n",
       "      <td>0.0</td>\n",
       "      <td>628.830000</td>\n",
       "      <td>381790.957381</td>\n",
       "      <td>0.001647</td>\n",
       "      <td>0.003159</td>\n",
       "    </tr>\n",
       "    <tr>\n",
       "      <th>3</th>\n",
       "      <td>1</td>\n",
       "      <td>1.918119</td>\n",
       "      <td>CASE</td>\n",
       "      <td>08</td>\n",
       "      <td>03:00</td>\n",
       "      <td>27.896666</td>\n",
       "      <td>73.488334</td>\n",
       "      <td>468.466667</td>\n",
       "      <td>0.0</td>\n",
       "      <td>61.7</td>\n",
       "      <td>...</td>\n",
       "      <td>0.0</td>\n",
       "      <td>0.0</td>\n",
       "      <td>0.0</td>\n",
       "      <td>0.0</td>\n",
       "      <td>0.0</td>\n",
       "      <td>0.0</td>\n",
       "      <td>631.551667</td>\n",
       "      <td>381790.957381</td>\n",
       "      <td>0.001654</td>\n",
       "      <td>0.003173</td>\n",
       "    </tr>\n",
       "    <tr>\n",
       "      <th>4</th>\n",
       "      <td>1</td>\n",
       "      <td>1.918119</td>\n",
       "      <td>CASE</td>\n",
       "      <td>08</td>\n",
       "      <td>04:00</td>\n",
       "      <td>27.921666</td>\n",
       "      <td>73.543333</td>\n",
       "      <td>471.550000</td>\n",
       "      <td>0.0</td>\n",
       "      <td>61.7</td>\n",
       "      <td>...</td>\n",
       "      <td>0.0</td>\n",
       "      <td>0.0</td>\n",
       "      <td>0.0</td>\n",
       "      <td>0.0</td>\n",
       "      <td>0.0</td>\n",
       "      <td>0.0</td>\n",
       "      <td>634.715000</td>\n",
       "      <td>381790.957381</td>\n",
       "      <td>0.001662</td>\n",
       "      <td>0.003189</td>\n",
       "    </tr>\n",
       "  </tbody>\n",
       "</table>\n",
       "<p>5 rows × 23 columns</p>\n",
       "</div>"
      ],
      "text/plain": [
       "   DAT  predicted_weight_g train/test file_num obs_time    내부온도관측치    내부습도관측치  \\\n",
       "0    1            1.918119       CASE       08    00:00  27.680000  73.026667   \n",
       "1    1            1.918119       CASE       08    01:00  27.770000  73.120000   \n",
       "2    1            1.918119       CASE       08    02:00  27.766666  73.130001   \n",
       "3    1            1.918119       CASE       08    03:00  27.896666  73.488334   \n",
       "4    1            1.918119       CASE       08    04:00  27.921666  73.543333   \n",
       "\n",
       "       co2관측치  ec관측치  시간당분무량  ...  시간당적색광량  일간누적적색광량  시간당청색광량  일간누적청색광량  \\\n",
       "0  466.750000    0.0    61.7  ...      0.0       0.0      0.0       0.0   \n",
       "1  464.516667    0.0    61.7  ...      0.0       0.0      0.0       0.0   \n",
       "2  466.233333    0.0    61.7  ...      0.0       0.0      0.0       0.0   \n",
       "3  468.466667    0.0    61.7  ...      0.0       0.0      0.0       0.0   \n",
       "4  471.550000    0.0    61.7  ...      0.0       0.0      0.0       0.0   \n",
       "\n",
       "   시간당총광량  일간누적총광량         sum      total_sum    weight    target  \n",
       "0     0.0      0.0  629.156667  381790.957381  0.001648  0.003161  \n",
       "1     0.0      0.0  627.106666  381790.957381  0.001643  0.003151  \n",
       "2     0.0      0.0  628.830000  381790.957381  0.001647  0.003159  \n",
       "3     0.0      0.0  631.551667  381790.957381  0.001654  0.003173  \n",
       "4     0.0      0.0  634.715000  381790.957381  0.001662  0.003189  \n",
       "\n",
       "[5 rows x 23 columns]"
      ]
     },
     "execution_count": 4,
     "metadata": {},
     "output_type": "execute_result"
    }
   ],
   "source": [
    "trial = data_store.return_last_trial()\n",
    "df = data_store.return_dict_df()[trial]\n",
    "df.head()"
   ]
  },
  {
   "cell_type": "markdown",
   "metadata": {},
   "source": [
    "- obs_time 통일성 있게 바꾸기\n",
    "- 중간중간 마이너스값 조절해주기\n",
    "- \n",
    "- 적색광,청색광 값이 0인 부분이 많은데 채워줘야하는지?"
   ]
  },
  {
   "cell_type": "markdown",
   "metadata": {},
   "source": [
    "# Feature Engineering"
   ]
  },
  {
   "cell_type": "code",
   "execution_count": 5,
   "metadata": {},
   "outputs": [],
   "source": [
    "train_df = df[df['train/test']=='CASE']\n",
    "test_df = df[df['train/test'] == 'TEST']"
   ]
  },
  {
   "cell_type": "code",
   "execution_count": null,
   "metadata": {},
   "outputs": [],
   "source": []
  }
 ],
 "metadata": {
  "kernelspec": {
   "display_name": "Python 3",
   "language": "python",
   "name": "python3"
  },
  "language_info": {
   "codemirror_mode": {
    "name": "ipython",
    "version": 3
   },
   "file_extension": ".py",
   "mimetype": "text/x-python",
   "name": "python",
   "nbconvert_exporter": "python",
   "pygments_lexer": "ipython3",
   "version": "3.7.9"
  }
 },
 "nbformat": 4,
 "nbformat_minor": 4
}
