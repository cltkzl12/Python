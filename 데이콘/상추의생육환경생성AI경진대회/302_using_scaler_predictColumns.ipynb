{
 "cells": [
  {
   "cell_type": "markdown",
   "metadata": {},
   "source": [
    "# Data Load"
   ]
  },
  {
   "cell_type": "code",
   "execution_count": 1,
   "metadata": {},
   "outputs": [],
   "source": [
    "import pandas as pd"
   ]
  },
  {
   "cell_type": "code",
   "execution_count": 2,
   "metadata": {},
   "outputs": [
    {
     "name": "stdout",
     "output_type": "stream",
     "text": [
      "There is data stored\n",
      "Last data fetch completed\n"
     ]
    }
   ],
   "source": [
    "from modules.data_store import data_store"
   ]
  },
  {
   "cell_type": "code",
   "execution_count": 3,
   "metadata": {},
   "outputs": [
    {
     "name": "stdout",
     "output_type": "stream",
     "text": [
      "Load the saved pickle file\n"
     ]
    }
   ],
   "source": [
    "data_store = data_store()"
   ]
  },
  {
   "cell_type": "code",
   "execution_count": 4,
   "metadata": {},
   "outputs": [],
   "source": [
    "trial = data_store.return_last_trial()\n",
    "df = data_store.return_dict_df()[trial]"
   ]
  },
  {
   "cell_type": "markdown",
   "metadata": {},
   "source": [
    "## target 값 - input변수 norm변환후 계산"
   ]
  },
  {
   "cell_type": "code",
   "execution_count": 5,
   "metadata": {},
   "outputs": [
    {
     "data": {
      "text/plain": [
       "['DAT',\n",
       " 'obs_hour',\n",
       " 'norm_change_내부온도관측치',\n",
       " 'norm_내부습도관측치',\n",
       " 'norm_co2관측치',\n",
       " 'norm_ec관측치',\n",
       " 'norm_시간당분무량',\n",
       " 'norm_일간누적분무량',\n",
       " 'norm_change_시간당백색광량',\n",
       " 'norm_change_일간누적백색광량',\n",
       " 'norm_change_시간당적색광량',\n",
       " 'norm_change_일간누적적색광량',\n",
       " 'norm_change_시간당청색광량',\n",
       " 'norm_change_일간누적청색광량',\n",
       " 'norm_change_시간당총광량',\n",
       " 'norm_change_일간누적총광량']"
      ]
     },
     "execution_count": 5,
     "metadata": {},
     "output_type": "execute_result"
    }
   ],
   "source": [
    "import modules.config as config\n",
    "input_cols = config.trial_4_input_cols\n",
    "input_cols"
   ]
  },
  {
   "cell_type": "markdown",
   "metadata": {},
   "source": [
    "## EBM"
   ]
  },
  {
   "cell_type": "code",
   "execution_count": 6,
   "metadata": {},
   "outputs": [],
   "source": [
    "base_df = df.copy()"
   ]
  },
  {
   "cell_type": "code",
   "execution_count": 7,
   "metadata": {},
   "outputs": [],
   "source": [
    "train_df = base_df[base_df['train/test']=='CASE']\n",
    "test_df = base_df[base_df['train/test']=='TEST']"
   ]
  },
  {
   "cell_type": "code",
   "execution_count": 8,
   "metadata": {},
   "outputs": [
    {
     "data": {
      "text/plain": [
       "ExplainableBoostingRegressor(feature_names=['DAT', 'obs_hour',\n",
       "                                            'norm_change_내부온도관측치',\n",
       "                                            'norm_내부습도관측치', 'norm_co2관측치',\n",
       "                                            'norm_ec관측치', 'norm_시간당분무량',\n",
       "                                            'norm_일간누적분무량',\n",
       "                                            'norm_change_시간당백색광량',\n",
       "                                            'norm_change_일간누적백색광량',\n",
       "                                            'norm_change_시간당적색광량',\n",
       "                                            'norm_change_일간누적적색광량',\n",
       "                                            'norm_change_시간당청색광량',\n",
       "                                            'norm_change_일간누적청색광량',\n",
       "                                            'norm_change_시간당총광량',\n",
       "                                            'norm_change_일간누적총광량',\n",
       "                                            'DAT x norm_change_시...\n",
       "                             feature_types=['continuous', 'continuous',\n",
       "                                            'continuous', 'continuous',\n",
       "                                            'continuous', 'continuous',\n",
       "                                            'continuous', 'continuous',\n",
       "                                            'continuous', 'continuous',\n",
       "                                            'continuous', 'continuous',\n",
       "                                            'continuous', 'continuous',\n",
       "                                            'continuous', 'continuous',\n",
       "                                            'interaction', 'interaction',\n",
       "                                            'interaction', 'interaction',\n",
       "                                            'interaction', 'interaction',\n",
       "                                            'interaction', 'interaction',\n",
       "                                            'interaction', 'interaction'])"
      ]
     },
     "execution_count": 8,
     "metadata": {},
     "output_type": "execute_result"
    }
   ],
   "source": [
    "from interpret.glassbox import ExplainableBoostingRegressor\n",
    "\n",
    "X_train = train_df[input_cols]\n",
    "y_train = train_df['target']\n",
    "\n",
    "ebm_1 = ExplainableBoostingRegressor()\n",
    "ebm_1.fit(X_train, y_train)"
   ]
  },
  {
   "cell_type": "code",
   "execution_count": 9,
   "metadata": {},
   "outputs": [
    {
     "name": "stderr",
     "output_type": "stream",
     "text": [
      "/Users/youngyong/opt/anaconda3/lib/python3.7/site-packages/ipykernel_launcher.py:2: SettingWithCopyWarning: \n",
      "A value is trying to be set on a copy of a slice from a DataFrame.\n",
      "Try using .loc[row_indexer,col_indexer] = value instead\n",
      "\n",
      "See the caveats in the documentation: https://pandas.pydata.org/pandas-docs/stable/user_guide/indexing.html#returning-a-view-versus-a-copy\n",
      "  \n"
     ]
    }
   ],
   "source": [
    "x_predict = ebm_1.predict(X_train)\n",
    "X_train['predict_d1'] = pd.DataFrame(x_predict)"
   ]
  },
  {
   "cell_type": "code",
   "execution_count": 10,
   "metadata": {},
   "outputs": [
    {
     "data": {
      "text/plain": [
       "-0.7747895654864869"
      ]
     },
     "execution_count": 10,
     "metadata": {},
     "output_type": "execute_result"
    }
   ],
   "source": [
    "X_train['predict_d1'].head(24).sum()"
   ]
  },
  {
   "cell_type": "code",
   "execution_count": 11,
   "metadata": {},
   "outputs": [
    {
     "name": "stderr",
     "output_type": "stream",
     "text": [
      "/Users/youngyong/opt/anaconda3/lib/python3.7/site-packages/ipykernel_launcher.py:7: SettingWithCopyWarning: \n",
      "A value is trying to be set on a copy of a slice from a DataFrame.\n",
      "Try using .loc[row_indexer,col_indexer] = value instead\n",
      "\n",
      "See the caveats in the documentation: https://pandas.pydata.org/pandas-docs/stable/user_guide/indexing.html#returning-a-view-versus-a-copy\n",
      "  import sys\n"
     ]
    }
   ],
   "source": [
    "def predict_rslt_weight(x):\n",
    "    if x < 0 :\n",
    "        return 0\n",
    "    else : \n",
    "        return x\n",
    "\n",
    "X_train['predict_d1'] = X_train['predict_d1'].apply(predict_rslt_weight)"
   ]
  },
  {
   "cell_type": "code",
   "execution_count": 12,
   "metadata": {},
   "outputs": [
    {
     "data": {
      "text/plain": [
       "1.1063112633191683"
      ]
     },
     "execution_count": 12,
     "metadata": {},
     "output_type": "execute_result"
    }
   ],
   "source": [
    "X_train['predict_d1'].head(24).sum()"
   ]
  },
  {
   "cell_type": "code",
   "execution_count": 13,
   "metadata": {},
   "outputs": [
    {
     "data": {
      "text/plain": [
       "ExplainableBoostingRegressor(feature_names=['DAT', 'obs_hour',\n",
       "                                            'norm_change_내부온도관측치',\n",
       "                                            'norm_내부습도관측치', 'norm_co2관측치',\n",
       "                                            'norm_ec관측치', 'norm_시간당분무량',\n",
       "                                            'norm_일간누적분무량',\n",
       "                                            'norm_change_시간당백색광량',\n",
       "                                            'norm_change_일간누적백색광량',\n",
       "                                            'norm_change_시간당적색광량',\n",
       "                                            'norm_change_일간누적적색광량',\n",
       "                                            'norm_change_시간당청색광량',\n",
       "                                            'norm_change_일간누적청색광량',\n",
       "                                            'norm_change_시간당총광량',\n",
       "                                            'norm_change_일간누적총광량', 'predict_d1',\n",
       "                                            'norm...\n",
       "                             feature_types=['continuous', 'continuous',\n",
       "                                            'continuous', 'continuous',\n",
       "                                            'continuous', 'continuous',\n",
       "                                            'continuous', 'continuous',\n",
       "                                            'continuous', 'continuous',\n",
       "                                            'continuous', 'continuous',\n",
       "                                            'continuous', 'continuous',\n",
       "                                            'continuous', 'continuous',\n",
       "                                            'continuous', 'interaction',\n",
       "                                            'interaction', 'interaction',\n",
       "                                            'interaction', 'interaction',\n",
       "                                            'interaction', 'interaction',\n",
       "                                            'interaction', 'interaction',\n",
       "                                            'interaction'])"
      ]
     },
     "execution_count": 13,
     "metadata": {},
     "output_type": "execute_result"
    }
   ],
   "source": [
    "ebm_2 = ExplainableBoostingRegressor()\n",
    "ebm_2.fit(X_train, y_train)"
   ]
  },
  {
   "cell_type": "code",
   "execution_count": 15,
   "metadata": {},
   "outputs": [
    {
     "data": {
      "text/plain": [
       "0    1.629731\n",
       "dtype: float64"
      ]
     },
     "execution_count": 15,
     "metadata": {},
     "output_type": "execute_result"
    }
   ],
   "source": [
    "x_predict = ebm_2.predict(X_train)\n",
    "pd.DataFrame(x_predict)[:24].sum()"
   ]
  },
  {
   "cell_type": "markdown",
   "metadata": {},
   "source": [
    "# test predict"
   ]
  },
  {
   "cell_type": "code",
   "execution_count": 16,
   "metadata": {},
   "outputs": [
    {
     "name": "stderr",
     "output_type": "stream",
     "text": [
      "/Users/youngyong/opt/anaconda3/lib/python3.7/site-packages/ipykernel_launcher.py:5: SettingWithCopyWarning: \n",
      "A value is trying to be set on a copy of a slice from a DataFrame.\n",
      "Try using .loc[row_indexer,col_indexer] = value instead\n",
      "\n",
      "See the caveats in the documentation: https://pandas.pydata.org/pandas-docs/stable/user_guide/indexing.html#returning-a-view-versus-a-copy\n",
      "  \"\"\"\n",
      "/Users/youngyong/opt/anaconda3/lib/python3.7/site-packages/ipykernel_launcher.py:6: SettingWithCopyWarning: \n",
      "A value is trying to be set on a copy of a slice from a DataFrame.\n",
      "Try using .loc[row_indexer,col_indexer] = value instead\n",
      "\n",
      "See the caveats in the documentation: https://pandas.pydata.org/pandas-docs/stable/user_guide/indexing.html#returning-a-view-versus-a-copy\n",
      "  \n"
     ]
    }
   ],
   "source": [
    "X_test = test_df[input_cols]\n",
    "y_test = test_df['target']\n",
    "\n",
    "\n",
    "X_test['predict_d1'] = ebm_1.predict(X_test)\n",
    "X_test['predict_d1'] = X_test['predict_d1'].apply(predict_rslt_weight)"
   ]
  },
  {
   "cell_type": "code",
   "execution_count": 17,
   "metadata": {},
   "outputs": [
    {
     "name": "stderr",
     "output_type": "stream",
     "text": [
      "/Users/youngyong/opt/anaconda3/lib/python3.7/site-packages/ipykernel_launcher.py:1: SettingWithCopyWarning: \n",
      "A value is trying to be set on a copy of a slice from a DataFrame.\n",
      "Try using .loc[row_indexer,col_indexer] = value instead\n",
      "\n",
      "See the caveats in the documentation: https://pandas.pydata.org/pandas-docs/stable/user_guide/indexing.html#returning-a-view-versus-a-copy\n",
      "  \"\"\"Entry point for launching an IPython kernel.\n"
     ]
    }
   ],
   "source": [
    "test_df['predicted_weight_g'] = ebm_2.predict(X_test)"
   ]
  },
  {
   "cell_type": "code",
   "execution_count": 18,
   "metadata": {},
   "outputs": [
    {
     "data": {
      "text/html": [
       "<div>\n",
       "<style scoped>\n",
       "    .dataframe tbody tr th:only-of-type {\n",
       "        vertical-align: middle;\n",
       "    }\n",
       "\n",
       "    .dataframe tbody tr th {\n",
       "        vertical-align: top;\n",
       "    }\n",
       "\n",
       "    .dataframe thead th {\n",
       "        text-align: right;\n",
       "    }\n",
       "</style>\n",
       "<table border=\"1\" class=\"dataframe\">\n",
       "  <thead>\n",
       "    <tr style=\"text-align: right;\">\n",
       "      <th></th>\n",
       "      <th>DAT</th>\n",
       "      <th>file_num</th>\n",
       "      <th>predicted_weight_g</th>\n",
       "    </tr>\n",
       "  </thead>\n",
       "  <tbody>\n",
       "    <tr>\n",
       "      <th>0</th>\n",
       "      <td>1</td>\n",
       "      <td>01</td>\n",
       "      <td>2.342505</td>\n",
       "    </tr>\n",
       "    <tr>\n",
       "      <th>1</th>\n",
       "      <td>1</td>\n",
       "      <td>02</td>\n",
       "      <td>1.205953</td>\n",
       "    </tr>\n",
       "    <tr>\n",
       "      <th>2</th>\n",
       "      <td>1</td>\n",
       "      <td>03</td>\n",
       "      <td>0.000000</td>\n",
       "    </tr>\n",
       "    <tr>\n",
       "      <th>3</th>\n",
       "      <td>1</td>\n",
       "      <td>04</td>\n",
       "      <td>0.971466</td>\n",
       "    </tr>\n",
       "    <tr>\n",
       "      <th>4</th>\n",
       "      <td>1</td>\n",
       "      <td>05</td>\n",
       "      <td>1.416712</td>\n",
       "    </tr>\n",
       "    <tr>\n",
       "      <th>...</th>\n",
       "      <td>...</td>\n",
       "      <td>...</td>\n",
       "      <td>...</td>\n",
       "    </tr>\n",
       "    <tr>\n",
       "      <th>135</th>\n",
       "      <td>28</td>\n",
       "      <td>01</td>\n",
       "      <td>96.821102</td>\n",
       "    </tr>\n",
       "    <tr>\n",
       "      <th>136</th>\n",
       "      <td>28</td>\n",
       "      <td>02</td>\n",
       "      <td>87.484524</td>\n",
       "    </tr>\n",
       "    <tr>\n",
       "      <th>137</th>\n",
       "      <td>28</td>\n",
       "      <td>03</td>\n",
       "      <td>38.462209</td>\n",
       "    </tr>\n",
       "    <tr>\n",
       "      <th>138</th>\n",
       "      <td>28</td>\n",
       "      <td>04</td>\n",
       "      <td>116.400319</td>\n",
       "    </tr>\n",
       "    <tr>\n",
       "      <th>139</th>\n",
       "      <td>28</td>\n",
       "      <td>05</td>\n",
       "      <td>88.941898</td>\n",
       "    </tr>\n",
       "  </tbody>\n",
       "</table>\n",
       "<p>140 rows × 3 columns</p>\n",
       "</div>"
      ],
      "text/plain": [
       "     DAT file_num  predicted_weight_g\n",
       "0      1       01            2.342505\n",
       "1      1       02            1.205953\n",
       "2      1       03            0.000000\n",
       "3      1       04            0.971466\n",
       "4      1       05            1.416712\n",
       "..   ...      ...                 ...\n",
       "135   28       01           96.821102\n",
       "136   28       02           87.484524\n",
       "137   28       03           38.462209\n",
       "138   28       04          116.400319\n",
       "139   28       05           88.941898\n",
       "\n",
       "[140 rows x 3 columns]"
      ]
     },
     "execution_count": 18,
     "metadata": {},
     "output_type": "execute_result"
    }
   ],
   "source": [
    "base_rslt_df = test_df[['DAT','file_num','predicted_weight_g']].groupby(['DAT','file_num']).sum().reset_index()\n",
    "def predict_rslt_weight(x):\n",
    "    if x < 0 :\n",
    "        return 0\n",
    "    else : \n",
    "        return x\n",
    "\n",
    "base_rslt_df['predicted_weight_g'] = base_rslt_df['predicted_weight_g'].apply(predict_rslt_weight)\n",
    "# base_rslt_df = base_rslt_df.set_index('DAT')\n",
    "base_rslt_df"
   ]
  },
  {
   "cell_type": "code",
   "execution_count": 20,
   "metadata": {},
   "outputs": [
    {
     "name": "stdout",
     "output_type": "stream",
     "text": [
      "./open/sample_submission/TEST_05.csv\n",
      "./open/sample_submission/TEST_03.csv\n",
      "./open/sample_submission/TEST_02.csv\n",
      "./open/sample_submission/TEST_01.csv\n",
      "./open/sample_submission/TEST_04.csv\n"
     ]
    }
   ],
   "source": [
    "file_num_list = set(base_rslt_df['file_num'])\n",
    "test_target_list = [] \n",
    "file_path = './open/sample_submission/'\n",
    "for file_num in file_num_list:\n",
    "    test_target_file = file_path+'TEST_'+file_num+'.csv'\n",
    "    print(test_target_file)\n",
    "    test_target_list.append(test_target_file)\n",
    "    base_rslt_df[base_rslt_df['file_num']==file_num][['DAT','predicted_weight_g']].to_csv(test_target_file,index=False)\n",
    "    "
   ]
  },
  {
   "cell_type": "markdown",
   "metadata": {},
   "source": [
    "- 성능이 8.5로 하락"
   ]
  },
  {
   "cell_type": "markdown",
   "metadata": {},
   "source": [
    "---"
   ]
  }
 ],
 "metadata": {
  "kernelspec": {
   "display_name": "Python 3",
   "language": "python",
   "name": "python3"
  },
  "language_info": {
   "codemirror_mode": {
    "name": "ipython",
    "version": 3
   },
   "file_extension": ".py",
   "mimetype": "text/x-python",
   "name": "python",
   "nbconvert_exporter": "python",
   "pygments_lexer": "ipython3",
   "version": "3.7.9"
  }
 },
 "nbformat": 4,
 "nbformat_minor": 4
}
