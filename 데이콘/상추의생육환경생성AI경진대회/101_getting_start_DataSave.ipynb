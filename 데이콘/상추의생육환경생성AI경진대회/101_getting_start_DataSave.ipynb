{
 "cells": [
  {
   "cell_type": "markdown",
   "metadata": {},
   "source": [
    "# data_store 모듈 이용해서 데이터 관리"
   ]
  },
  {
   "cell_type": "code",
   "execution_count": 1,
   "metadata": {},
   "outputs": [
    {
     "name": "stdout",
     "output_type": "stream",
     "text": [
      "There is not data stored\n"
     ]
    }
   ],
   "source": [
    "from modules.data_store import data_store"
   ]
  },
  {
   "cell_type": "markdown",
   "metadata": {},
   "source": [
    "# 데이터 한곳으로 모으기"
   ]
  },
  {
   "cell_type": "code",
   "execution_count": 21,
   "metadata": {},
   "outputs": [
    {
     "data": {
      "text/html": [
       "<div>\n",
       "<style scoped>\n",
       "    .dataframe tbody tr th:only-of-type {\n",
       "        vertical-align: middle;\n",
       "    }\n",
       "\n",
       "    .dataframe tbody tr th {\n",
       "        vertical-align: top;\n",
       "    }\n",
       "\n",
       "    .dataframe thead th {\n",
       "        text-align: right;\n",
       "    }\n",
       "</style>\n",
       "<table border=\"1\" class=\"dataframe\">\n",
       "  <thead>\n",
       "    <tr style=\"text-align: right;\">\n",
       "      <th></th>\n",
       "      <th>DAT</th>\n",
       "      <th>predicted_weight_g</th>\n",
       "      <th>train/test</th>\n",
       "      <th>file_num</th>\n",
       "    </tr>\n",
       "  </thead>\n",
       "  <tbody>\n",
       "    <tr>\n",
       "      <th>0</th>\n",
       "      <td>1</td>\n",
       "      <td>1.918119</td>\n",
       "      <td>CASE</td>\n",
       "      <td>08</td>\n",
       "    </tr>\n",
       "    <tr>\n",
       "      <th>1</th>\n",
       "      <td>2</td>\n",
       "      <td>2.071781</td>\n",
       "      <td>CASE</td>\n",
       "      <td>08</td>\n",
       "    </tr>\n",
       "    <tr>\n",
       "      <th>2</th>\n",
       "      <td>3</td>\n",
       "      <td>2.210768</td>\n",
       "      <td>CASE</td>\n",
       "      <td>08</td>\n",
       "    </tr>\n",
       "    <tr>\n",
       "      <th>3</th>\n",
       "      <td>4</td>\n",
       "      <td>2.409266</td>\n",
       "      <td>CASE</td>\n",
       "      <td>08</td>\n",
       "    </tr>\n",
       "    <tr>\n",
       "      <th>4</th>\n",
       "      <td>5</td>\n",
       "      <td>2.808479</td>\n",
       "      <td>CASE</td>\n",
       "      <td>08</td>\n",
       "    </tr>\n",
       "    <tr>\n",
       "      <th>...</th>\n",
       "      <td>...</td>\n",
       "      <td>...</td>\n",
       "      <td>...</td>\n",
       "      <td>...</td>\n",
       "    </tr>\n",
       "    <tr>\n",
       "      <th>23</th>\n",
       "      <td>24</td>\n",
       "      <td>0.000000</td>\n",
       "      <td>TEST</td>\n",
       "      <td>02</td>\n",
       "    </tr>\n",
       "    <tr>\n",
       "      <th>24</th>\n",
       "      <td>25</td>\n",
       "      <td>0.000000</td>\n",
       "      <td>TEST</td>\n",
       "      <td>02</td>\n",
       "    </tr>\n",
       "    <tr>\n",
       "      <th>25</th>\n",
       "      <td>26</td>\n",
       "      <td>0.000000</td>\n",
       "      <td>TEST</td>\n",
       "      <td>02</td>\n",
       "    </tr>\n",
       "    <tr>\n",
       "      <th>26</th>\n",
       "      <td>27</td>\n",
       "      <td>0.000000</td>\n",
       "      <td>TEST</td>\n",
       "      <td>02</td>\n",
       "    </tr>\n",
       "    <tr>\n",
       "      <th>27</th>\n",
       "      <td>28</td>\n",
       "      <td>0.000000</td>\n",
       "      <td>TEST</td>\n",
       "      <td>02</td>\n",
       "    </tr>\n",
       "  </tbody>\n",
       "</table>\n",
       "<p>924 rows × 4 columns</p>\n",
       "</div>"
      ],
      "text/plain": [
       "    DAT  predicted_weight_g train/test file_num\n",
       "0     1            1.918119       CASE       08\n",
       "1     2            2.071781       CASE       08\n",
       "2     3            2.210768       CASE       08\n",
       "3     4            2.409266       CASE       08\n",
       "4     5            2.808479       CASE       08\n",
       "..  ...                 ...        ...      ...\n",
       "23   24            0.000000       TEST       02\n",
       "24   25            0.000000       TEST       02\n",
       "25   26            0.000000       TEST       02\n",
       "26   27            0.000000       TEST       02\n",
       "27   28            0.000000       TEST       02\n",
       "\n",
       "[924 rows x 4 columns]"
      ]
     },
     "execution_count": 21,
     "metadata": {},
     "output_type": "execute_result"
    }
   ],
   "source": [
    "import os\n",
    "import pandas as pd\n",
    "data_path = './open/'\n",
    "directory_list = ['test_input', 'train_input']\n",
    "\n",
    "df = pd.DataFrame()\n",
    "output_df = pd.DataFrame()\n",
    "\n",
    "for d in directory_list:\n",
    "    for file_nm in os.listdir(data_path + d):\n",
    "        tmp = pd.read_csv(data_path+d+'/'+file_nm)\n",
    "        train_test_split = file_nm.split('_')\n",
    "        tmp['train/test'] = train_test_split[0]\n",
    "        tmp['file_num'] = train_test_split[1].split('.')[0]\n",
    "        df = pd.concat([tmp,df])\n",
    "\n",
    "        \n",
    "directory_list = ['test_target', 'train_target']\n",
    "for d in directory_list:\n",
    "    for file_nm in os.listdir(data_path + d):\n",
    "        tmp = pd.read_csv(data_path+d+'/'+file_nm)\n",
    "        train_test_split = file_nm.split('_')\n",
    "        tmp['train/test'] = train_test_split[0]\n",
    "        tmp['file_num'] = train_test_split[1].split('.')[0]\n",
    "        output_df = pd.concat([tmp,output_df])\n",
    "\n",
    "        \n",
    "        \n",
    "output_df"
   ]
  },
  {
   "cell_type": "code",
   "execution_count": 37,
   "metadata": {},
   "outputs": [],
   "source": [
    "df['DAT'] = df['DAT'] + 1"
   ]
  },
  {
   "cell_type": "code",
   "execution_count": 35,
   "metadata": {},
   "outputs": [
    {
     "data": {
      "text/plain": [
       "22176"
      ]
     },
     "execution_count": 35,
     "metadata": {},
     "output_type": "execute_result"
    }
   ],
   "source": [
    "len(df)"
   ]
  },
  {
   "cell_type": "code",
   "execution_count": 36,
   "metadata": {},
   "outputs": [
    {
     "data": {
      "text/plain": [
       "22176"
      ]
     },
     "execution_count": 36,
     "metadata": {},
     "output_type": "execute_result"
    }
   ],
   "source": [
    "df = pd.merge(output_df , df , how='inner',on=['DAT','train/test','file_num'])\n",
    "len(df)"
   ]
  },
  {
   "cell_type": "code",
   "execution_count": 38,
   "metadata": {},
   "outputs": [
    {
     "name": "stdout",
     "output_type": "stream",
     "text": [
      "No saved pickle files\n"
     ]
    }
   ],
   "source": [
    "data_store = data_store(all_df=df)"
   ]
  },
  {
   "cell_type": "markdown",
   "metadata": {},
   "source": [
    "# 한 곳으로 모은 데이터 저장"
   ]
  },
  {
   "cell_type": "code",
   "execution_count": 39,
   "metadata": {},
   "outputs": [],
   "source": [
    "data_store.save_pkl()"
   ]
  },
  {
   "cell_type": "markdown",
   "metadata": {},
   "source": [
    "# 확인"
   ]
  },
  {
   "cell_type": "code",
   "execution_count": 42,
   "metadata": {},
   "outputs": [
    {
     "data": {
      "text/plain": [
       "{'1_trial':        DAT  predicted_weight_g train/test file_num obs_time    내부온도관측치  \\\n",
       " 0        1            1.918119       CASE       08    00:00  27.680000   \n",
       " 1        1            1.918119       CASE       08    01:00  27.770000   \n",
       " 2        1            1.918119       CASE       08    02:00  27.766666   \n",
       " 3        1            1.918119       CASE       08    03:00  27.896666   \n",
       " 4        1            1.918119       CASE       08    04:00  27.921666   \n",
       " ...    ...                 ...        ...      ...      ...        ...   \n",
       " 22171   28            0.000000       TEST       02    19:00  26.960000   \n",
       " 22172   28            0.000000       TEST       02    20:00  26.211667   \n",
       " 22173   28            0.000000       TEST       02    21:00  25.368333   \n",
       " 22174   28            0.000000       TEST       02    22:00  25.256667   \n",
       " 22175   28            0.000000       TEST       02    23:00  24.575000   \n",
       " \n",
       "          내부습도관측치      co2관측치     ec관측치  시간당분무량   일간누적분무량  시간당백색광량    일간누적백색광량  \\\n",
       " 0      73.026667  466.750000  0.000000    61.7     61.70   0.0000       0.000   \n",
       " 1      73.120000  464.516667  0.000000    61.7    123.40   0.0000       0.000   \n",
       " 2      73.130001  466.233333  0.000000    61.7    185.10   0.0000       0.000   \n",
       " 3      73.488334  468.466667  0.000000    61.7    246.80   0.0000       0.000   \n",
       " 4      73.543333  471.550000  0.000000    61.7    308.50   0.0000       0.000   \n",
       " ...          ...         ...       ...     ...       ...      ...         ...   \n",
       " 22171  56.620000  542.616667  1.067239   769.0  11117.05  12.3764  209656.216   \n",
       " 22172  57.241667  540.583333  1.074064     0.0  11117.05   0.0000  209656.216   \n",
       " 22173  56.310000  530.800000  1.078533   769.0  11886.05   0.0000  209656.216   \n",
       " 22174  57.343333  540.466667  1.078533     0.0  11886.05   0.0000  209656.216   \n",
       " 22175  56.585000  536.166667  1.082081   769.0  12655.05   0.0000  209656.216   \n",
       " \n",
       "        시간당적색광량  일간누적적색광량  시간당청색광량  일간누적청색광량   시간당총광량     일간누적총광량  \n",
       " 0          0.0       0.0      0.0       0.0   0.0000       0.000  \n",
       " 1          0.0       0.0      0.0       0.0   0.0000       0.000  \n",
       " 2          0.0       0.0      0.0       0.0   0.0000       0.000  \n",
       " 3          0.0       0.0      0.0       0.0   0.0000       0.000  \n",
       " 4          0.0       0.0      0.0       0.0   0.0000       0.000  \n",
       " ...        ...       ...      ...       ...      ...         ...  \n",
       " 22171      0.0       0.0      0.0       0.0  12.3764  209656.216  \n",
       " 22172      0.0       0.0      0.0       0.0   0.0000  209656.216  \n",
       " 22173      0.0       0.0      0.0       0.0   0.0000  209656.216  \n",
       " 22174      0.0       0.0      0.0       0.0   0.0000  209656.216  \n",
       " 22175      0.0       0.0      0.0       0.0   0.0000  209656.216  \n",
       " \n",
       " [22176 rows x 19 columns]}"
      ]
     },
     "execution_count": 42,
     "metadata": {},
     "output_type": "execute_result"
    }
   ],
   "source": [
    "import joblib \n",
    "joblib.load('./modules/pkl_file/hist_df_20221126_1545.pkl')"
   ]
  }
 ],
 "metadata": {
  "kernelspec": {
   "display_name": "Python 3",
   "language": "python",
   "name": "python3"
  },
  "language_info": {
   "codemirror_mode": {
    "name": "ipython",
    "version": 3
   },
   "file_extension": ".py",
   "mimetype": "text/x-python",
   "name": "python",
   "nbconvert_exporter": "python",
   "pygments_lexer": "ipython3",
   "version": "3.7.9"
  }
 },
 "nbformat": 4,
 "nbformat_minor": 4
}
