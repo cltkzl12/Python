{
 "cells": [
  {
   "cell_type": "code",
   "execution_count": 1,
   "metadata": {},
   "outputs": [],
   "source": [
    "import sys\n",
    "import os\n",
    "#데이터용\n",
    "from datetime import datetime\n",
    "import numpy as np\n",
    "import pandas as pd\n",
    "\n",
    "#시각화용\n",
    "import seaborn as sns\n",
    "import matplotlib.pyplot as plt\n"
   ]
  },
  {
   "cell_type": "code",
   "execution_count": 2,
   "metadata": {},
   "outputs": [
    {
     "name": "stdout",
     "output_type": "stream",
     "text": [
      "There is data stored\n",
      "Last data fetch completed\n"
     ]
    }
   ],
   "source": [
    "from py_code.data_store import data_store\n",
    "from py_code import config"
   ]
  },
  {
   "cell_type": "code",
   "execution_count": 3,
   "metadata": {},
   "outputs": [
    {
     "name": "stdout",
     "output_type": "stream",
     "text": [
      "Load the saved pickle file\n"
     ]
    }
   ],
   "source": [
    "df_dict = data_store()"
   ]
  },
  {
   "cell_type": "markdown",
   "metadata": {},
   "source": [
    "# Data Load"
   ]
  },
  {
   "cell_type": "code",
   "execution_count": 4,
   "metadata": {},
   "outputs": [],
   "source": [
    "df = df_dict.return_dict_df()\n",
    "df = df[df_dict.return_last_trial()]\n",
    "trial = df_dict.return_last_trial()"
   ]
  },
  {
   "cell_type": "code",
   "execution_count": 18,
   "metadata": {},
   "outputs": [],
   "source": [
    "train = df[df['data_set']=='train'].fillna(0)\n",
    "test = df[df['data_set']=='test'].fillna(0)\n",
    "\n",
    "# self,train,test,params = [],input_cols = [],"
   ]
  },
  {
   "cell_type": "code",
   "execution_count": 21,
   "metadata": {},
   "outputs": [
    {
     "data": {
      "text/html": [
       "<div>\n",
       "<style scoped>\n",
       "    .dataframe tbody tr th:only-of-type {\n",
       "        vertical-align: middle;\n",
       "    }\n",
       "\n",
       "    .dataframe tbody tr th {\n",
       "        vertical-align: top;\n",
       "    }\n",
       "\n",
       "    .dataframe thead th {\n",
       "        text-align: right;\n",
       "    }\n",
       "</style>\n",
       "<table border=\"1\" class=\"dataframe\">\n",
       "  <thead>\n",
       "    <tr style=\"text-align: right;\">\n",
       "      <th></th>\n",
       "      <th>datetime</th>\n",
       "      <th>season</th>\n",
       "      <th>holiday</th>\n",
       "      <th>workingday</th>\n",
       "      <th>weather</th>\n",
       "      <th>temp</th>\n",
       "      <th>atemp</th>\n",
       "      <th>humidity</th>\n",
       "      <th>windspeed</th>\n",
       "      <th>casual</th>\n",
       "      <th>...</th>\n",
       "      <th>month</th>\n",
       "      <th>year</th>\n",
       "      <th>hour</th>\n",
       "      <th>dow</th>\n",
       "      <th>woy</th>\n",
       "      <th>count_season</th>\n",
       "      <th>peak</th>\n",
       "      <th>ideal</th>\n",
       "      <th>sticky</th>\n",
       "      <th>Td</th>\n",
       "    </tr>\n",
       "    <tr>\n",
       "      <th>datetime</th>\n",
       "      <th></th>\n",
       "      <th></th>\n",
       "      <th></th>\n",
       "      <th></th>\n",
       "      <th></th>\n",
       "      <th></th>\n",
       "      <th></th>\n",
       "      <th></th>\n",
       "      <th></th>\n",
       "      <th></th>\n",
       "      <th></th>\n",
       "      <th></th>\n",
       "      <th></th>\n",
       "      <th></th>\n",
       "      <th></th>\n",
       "      <th></th>\n",
       "      <th></th>\n",
       "      <th></th>\n",
       "      <th></th>\n",
       "      <th></th>\n",
       "      <th></th>\n",
       "    </tr>\n",
       "  </thead>\n",
       "  <tbody>\n",
       "    <tr>\n",
       "      <th>2011-01-01 00:00:00</th>\n",
       "      <td>2011-01-01 00:00:00</td>\n",
       "      <td>1</td>\n",
       "      <td>0</td>\n",
       "      <td>0</td>\n",
       "      <td>1</td>\n",
       "      <td>9.84</td>\n",
       "      <td>14.395</td>\n",
       "      <td>81</td>\n",
       "      <td>0.0</td>\n",
       "      <td>3</td>\n",
       "      <td>...</td>\n",
       "      <td>1</td>\n",
       "      <td>2011</td>\n",
       "      <td>0</td>\n",
       "      <td>5</td>\n",
       "      <td>52</td>\n",
       "      <td>312498</td>\n",
       "      <td>0</td>\n",
       "      <td>0</td>\n",
       "      <td>0</td>\n",
       "      <td>6.731046</td>\n",
       "    </tr>\n",
       "    <tr>\n",
       "      <th>2011-01-01 01:00:00</th>\n",
       "      <td>2011-01-01 01:00:00</td>\n",
       "      <td>1</td>\n",
       "      <td>0</td>\n",
       "      <td>0</td>\n",
       "      <td>1</td>\n",
       "      <td>9.02</td>\n",
       "      <td>13.635</td>\n",
       "      <td>80</td>\n",
       "      <td>0.0</td>\n",
       "      <td>8</td>\n",
       "      <td>...</td>\n",
       "      <td>1</td>\n",
       "      <td>2011</td>\n",
       "      <td>1</td>\n",
       "      <td>5</td>\n",
       "      <td>52</td>\n",
       "      <td>312498</td>\n",
       "      <td>0</td>\n",
       "      <td>0</td>\n",
       "      <td>0</td>\n",
       "      <td>5.751306</td>\n",
       "    </tr>\n",
       "    <tr>\n",
       "      <th>2011-01-01 02:00:00</th>\n",
       "      <td>2011-01-01 02:00:00</td>\n",
       "      <td>1</td>\n",
       "      <td>0</td>\n",
       "      <td>0</td>\n",
       "      <td>1</td>\n",
       "      <td>9.02</td>\n",
       "      <td>13.635</td>\n",
       "      <td>80</td>\n",
       "      <td>0.0</td>\n",
       "      <td>5</td>\n",
       "      <td>...</td>\n",
       "      <td>1</td>\n",
       "      <td>2011</td>\n",
       "      <td>2</td>\n",
       "      <td>5</td>\n",
       "      <td>52</td>\n",
       "      <td>312498</td>\n",
       "      <td>0</td>\n",
       "      <td>0</td>\n",
       "      <td>0</td>\n",
       "      <td>5.751306</td>\n",
       "    </tr>\n",
       "    <tr>\n",
       "      <th>2011-01-01 03:00:00</th>\n",
       "      <td>2011-01-01 03:00:00</td>\n",
       "      <td>1</td>\n",
       "      <td>0</td>\n",
       "      <td>0</td>\n",
       "      <td>1</td>\n",
       "      <td>9.84</td>\n",
       "      <td>14.395</td>\n",
       "      <td>75</td>\n",
       "      <td>0.0</td>\n",
       "      <td>3</td>\n",
       "      <td>...</td>\n",
       "      <td>1</td>\n",
       "      <td>2011</td>\n",
       "      <td>3</td>\n",
       "      <td>5</td>\n",
       "      <td>52</td>\n",
       "      <td>312498</td>\n",
       "      <td>0</td>\n",
       "      <td>0</td>\n",
       "      <td>0</td>\n",
       "      <td>5.614538</td>\n",
       "    </tr>\n",
       "    <tr>\n",
       "      <th>2011-01-01 04:00:00</th>\n",
       "      <td>2011-01-01 04:00:00</td>\n",
       "      <td>1</td>\n",
       "      <td>0</td>\n",
       "      <td>0</td>\n",
       "      <td>1</td>\n",
       "      <td>9.84</td>\n",
       "      <td>14.395</td>\n",
       "      <td>75</td>\n",
       "      <td>0.0</td>\n",
       "      <td>0</td>\n",
       "      <td>...</td>\n",
       "      <td>1</td>\n",
       "      <td>2011</td>\n",
       "      <td>4</td>\n",
       "      <td>5</td>\n",
       "      <td>52</td>\n",
       "      <td>312498</td>\n",
       "      <td>0</td>\n",
       "      <td>0</td>\n",
       "      <td>0</td>\n",
       "      <td>5.614538</td>\n",
       "    </tr>\n",
       "  </tbody>\n",
       "</table>\n",
       "<p>5 rows × 28 columns</p>\n",
       "</div>"
      ],
      "text/plain": [
       "                                datetime  season  holiday  workingday  \\\n",
       "datetime                                                                \n",
       "2011-01-01 00:00:00  2011-01-01 00:00:00       1        0           0   \n",
       "2011-01-01 01:00:00  2011-01-01 01:00:00       1        0           0   \n",
       "2011-01-01 02:00:00  2011-01-01 02:00:00       1        0           0   \n",
       "2011-01-01 03:00:00  2011-01-01 03:00:00       1        0           0   \n",
       "2011-01-01 04:00:00  2011-01-01 04:00:00       1        0           0   \n",
       "\n",
       "                     weather  temp   atemp  humidity  windspeed  casual  ...  \\\n",
       "datetime                                                                 ...   \n",
       "2011-01-01 00:00:00        1  9.84  14.395        81        0.0       3  ...   \n",
       "2011-01-01 01:00:00        1  9.02  13.635        80        0.0       8  ...   \n",
       "2011-01-01 02:00:00        1  9.02  13.635        80        0.0       5  ...   \n",
       "2011-01-01 03:00:00        1  9.84  14.395        75        0.0       3  ...   \n",
       "2011-01-01 04:00:00        1  9.84  14.395        75        0.0       0  ...   \n",
       "\n",
       "                     month  year hour  dow  woy  count_season peak  ideal  \\\n",
       "datetime                                                                    \n",
       "2011-01-01 00:00:00      1  2011    0    5   52        312498    0      0   \n",
       "2011-01-01 01:00:00      1  2011    1    5   52        312498    0      0   \n",
       "2011-01-01 02:00:00      1  2011    2    5   52        312498    0      0   \n",
       "2011-01-01 03:00:00      1  2011    3    5   52        312498    0      0   \n",
       "2011-01-01 04:00:00      1  2011    4    5   52        312498    0      0   \n",
       "\n",
       "                     sticky        Td  \n",
       "datetime                               \n",
       "2011-01-01 00:00:00       0  6.731046  \n",
       "2011-01-01 01:00:00       0  5.751306  \n",
       "2011-01-01 02:00:00       0  5.751306  \n",
       "2011-01-01 03:00:00       0  5.614538  \n",
       "2011-01-01 04:00:00       0  5.614538  \n",
       "\n",
       "[5 rows x 28 columns]"
      ]
     },
     "execution_count": 21,
     "metadata": {},
     "output_type": "execute_result"
    }
   ],
   "source": [
    "train.head()"
   ]
  },
  {
   "cell_type": "markdown",
   "metadata": {},
   "source": [
    "# Start EBM "
   ]
  },
  {
   "cell_type": "code",
   "execution_count": 19,
   "metadata": {},
   "outputs": [
    {
     "data": {
      "text/plain": [
       "ExplainableBoostingRegressor(feature_names=['weather', 'temp', 'atemp',\n",
       "                                            'windspeed', 'workingday', 'season',\n",
       "                                            'holiday', 'hour', 'dow', 'woy',\n",
       "                                            'peak', 'Td', 'workingday x hour',\n",
       "                                            'hour x dow', 'woy x peak',\n",
       "                                            'temp x hour', 'season x peak',\n",
       "                                            'atemp x hour', 'season x hour',\n",
       "                                            'hour x woy', 'atemp x workingday',\n",
       "                                            'atemp x dow'],\n",
       "                             feature_types=['continuous', 'continuous',\n",
       "                                            'continuous', 'continuous',\n",
       "                                            'categorical', 'continuous',\n",
       "                                            'categorical', 'continuous',\n",
       "                                            'continuous', 'continuous',\n",
       "                                            'categorical', 'continuous',\n",
       "                                            'interaction', 'interaction',\n",
       "                                            'interaction', 'interaction',\n",
       "                                            'interaction', 'interaction',\n",
       "                                            'interaction', 'interaction',\n",
       "                                            'interaction', 'interaction'])"
      ]
     },
     "execution_count": 19,
     "metadata": {},
     "output_type": "execute_result"
    }
   ],
   "source": [
    "from interpret.glassbox import ExplainableBoostingRegressor\n",
    "\n",
    "X_train = train[config.input_cols]\n",
    "y_train = train['count']\n",
    "\n",
    "ebm = ExplainableBoostingRegressor()\n",
    "ebm.fit(X_train, y_train)"
   ]
  },
  {
   "cell_type": "markdown",
   "metadata": {},
   "source": [
    "# Explain \n",
    "> Dist  \n",
    "> Global  \n",
    "> Local  "
   ]
  },
  {
   "cell_type": "code",
   "execution_count": 57,
   "metadata": {},
   "outputs": [
    {
     "data": {
      "text/html": [
       "<!-- http://127.0.0.1:7001/140363484042896/ -->\n",
       "<iframe src=\"http://127.0.0.1:7001/140363484042896/\" width=100% height=800 frameBorder=\"0\"></iframe>"
      ]
     },
     "metadata": {},
     "output_type": "display_data"
    }
   ],
   "source": [
    "from interpret import show\n",
    "from interpret.data import Marginal\n",
    "\n",
    "marginal = Marginal().explain_data(X_train, y_train, name = 'Train Data')\n",
    "show(marginal)"
   ]
  },
  {
   "cell_type": "code",
   "execution_count": 22,
   "metadata": {
    "scrolled": false
   },
   "outputs": [
    {
     "name": "stderr",
     "output_type": "stream",
     "text": [
      "/Users/youngyong/opt/anaconda3/lib/python3.7/site-packages/interpret/visual/udash.py:5: UserWarning: \n",
      "The dash_html_components package is deprecated. Please replace\n",
      "`import dash_html_components as html` with `from dash import html`\n",
      "  import dash_html_components as html\n",
      "/Users/youngyong/opt/anaconda3/lib/python3.7/site-packages/interpret/visual/udash.py:6: UserWarning: \n",
      "The dash_core_components package is deprecated. Please replace\n",
      "`import dash_core_components as dcc` with `from dash import dcc`\n",
      "  import dash_core_components as dcc\n",
      "/Users/youngyong/opt/anaconda3/lib/python3.7/site-packages/interpret/visual/udash.py:7: UserWarning: \n",
      "The dash_table package is deprecated. Please replace\n",
      "`import dash_table` with `from dash import dash_table`\n",
      "\n",
      "Also, if you're using any of the table format helpers (e.g. Group), replace \n",
      "`from dash_table.Format import Group` with \n",
      "`from dash.dash_table.Format import Group`\n",
      "  import dash_table as dt\n"
     ]
    },
    {
     "data": {
      "text/html": [
       "<!-- http://127.0.0.1:7001/140363449251792/ -->\n",
       "<iframe src=\"http://127.0.0.1:7001/140363449251792/\" width=100% height=800 frameBorder=\"0\"></iframe>"
      ]
     },
     "metadata": {},
     "output_type": "display_data"
    }
   ],
   "source": [
    "ebm_global = ebm.explain_global()\n",
    "show(ebm_global)"
   ]
  },
  {
   "cell_type": "markdown",
   "metadata": {},
   "source": [
    "- EBM을 이용한 EDA를 해보자!\n",
    "> 1. 각 column의 가장 score가 높은점과 낮은점을 구하자\n",
    "> 2. 각 column의 기울기가 변하는 구간을 구하자\n",
    "> 3. \n"
   ]
  },
  {
   "cell_type": "code",
   "execution_count": 216,
   "metadata": {},
   "outputs": [
    {
     "data": {
      "text/plain": [
       "{'values': [1.0, 1.5, 2.5, 3.5, 4.0],\n",
       " 'scores': [5.9336914049573295,\n",
       "  -0.10373869749127351,\n",
       "  -49.280364088096306,\n",
       "  -49.280364088096306]}"
      ]
     },
     "execution_count": 216,
     "metadata": {},
     "output_type": "execute_result"
    }
   ],
   "source": [
    "cols = config.input_cols\n",
    "\n",
    "def get_eachCols_EBM_score(ebm_global, cols):\n",
    "    EBM_cols_dict = dict()\n",
    "    for i in range(len(cols)):\n",
    "        EBM_cols_dict[cols[i]] = {'values':ebm_global.data(i)['names'],'scores':list(ebm_global.data(i)['scores'])}\n",
    "    return EBM_cols_dict\n",
    "EBM_cols_dict = get_eachCols_EBM_score(ebm_global, cols)\n",
    "EBM_cols_dict['weather']"
   ]
  },
  {
   "cell_type": "markdown",
   "metadata": {},
   "source": []
  },
  {
   "cell_type": "code",
   "execution_count": 215,
   "metadata": {},
   "outputs": [
    {
     "data": {
      "text/html": [
       "<div>\n",
       "<style scoped>\n",
       "    .dataframe tbody tr th:only-of-type {\n",
       "        vertical-align: middle;\n",
       "    }\n",
       "\n",
       "    .dataframe tbody tr th {\n",
       "        vertical-align: top;\n",
       "    }\n",
       "\n",
       "    .dataframe thead th {\n",
       "        text-align: right;\n",
       "    }\n",
       "</style>\n",
       "<table border=\"1\" class=\"dataframe\">\n",
       "  <thead>\n",
       "    <tr style=\"text-align: right;\">\n",
       "      <th></th>\n",
       "      <th>Unique</th>\n",
       "      <th>Max_Point</th>\n",
       "      <th>Min_Point</th>\n",
       "      <th>Max_Score</th>\n",
       "      <th>Min_Score</th>\n",
       "      <th>Midean</th>\n",
       "      <th>Range_Score</th>\n",
       "    </tr>\n",
       "  </thead>\n",
       "  <tbody>\n",
       "    <tr>\n",
       "      <th>peak</th>\n",
       "      <td>2</td>\n",
       "      <td>1.0</td>\n",
       "      <td>0.0</td>\n",
       "      <td>254</td>\n",
       "      <td>-24</td>\n",
       "      <td>115</td>\n",
       "      <td>278</td>\n",
       "    </tr>\n",
       "    <tr>\n",
       "      <th>hour</th>\n",
       "      <td>24</td>\n",
       "      <td>18.5</td>\n",
       "      <td>3.5</td>\n",
       "      <td>131</td>\n",
       "      <td>-134</td>\n",
       "      <td>27</td>\n",
       "      <td>265</td>\n",
       "    </tr>\n",
       "    <tr>\n",
       "      <th>Td</th>\n",
       "      <td>969</td>\n",
       "      <td>3.77055</td>\n",
       "      <td>25.1054</td>\n",
       "      <td>63</td>\n",
       "      <td>-112</td>\n",
       "      <td>9</td>\n",
       "      <td>175</td>\n",
       "    </tr>\n",
       "    <tr>\n",
       "      <th>temp</th>\n",
       "      <td>49</td>\n",
       "      <td>30.75</td>\n",
       "      <td>9.43</td>\n",
       "      <td>100</td>\n",
       "      <td>-69</td>\n",
       "      <td>-6</td>\n",
       "      <td>169</td>\n",
       "    </tr>\n",
       "    <tr>\n",
       "      <th>atemp</th>\n",
       "      <td>60</td>\n",
       "      <td>39.7725</td>\n",
       "      <td>13.2575</td>\n",
       "      <td>96</td>\n",
       "      <td>-41</td>\n",
       "      <td>-9</td>\n",
       "      <td>137</td>\n",
       "    </tr>\n",
       "    <tr>\n",
       "      <th>woy</th>\n",
       "      <td>46</td>\n",
       "      <td>37.5</td>\n",
       "      <td>51.5</td>\n",
       "      <td>53</td>\n",
       "      <td>-77</td>\n",
       "      <td>-1</td>\n",
       "      <td>130</td>\n",
       "    </tr>\n",
       "    <tr>\n",
       "      <th>windspeed</th>\n",
       "      <td>28</td>\n",
       "      <td>19.5004</td>\n",
       "      <td>39.999</td>\n",
       "      <td>5</td>\n",
       "      <td>-94</td>\n",
       "      <td>-5</td>\n",
       "      <td>99</td>\n",
       "    </tr>\n",
       "    <tr>\n",
       "      <th>weather</th>\n",
       "      <td>4</td>\n",
       "      <td>1</td>\n",
       "      <td>2.5</td>\n",
       "      <td>5</td>\n",
       "      <td>-49</td>\n",
       "      <td>-24</td>\n",
       "      <td>54</td>\n",
       "    </tr>\n",
       "    <tr>\n",
       "      <th>workingday</th>\n",
       "      <td>2</td>\n",
       "      <td>0.0</td>\n",
       "      <td>1.0</td>\n",
       "      <td>27</td>\n",
       "      <td>-12</td>\n",
       "      <td>7</td>\n",
       "      <td>39</td>\n",
       "    </tr>\n",
       "    <tr>\n",
       "      <th>season</th>\n",
       "      <td>4</td>\n",
       "      <td>3.5</td>\n",
       "      <td>1</td>\n",
       "      <td>13</td>\n",
       "      <td>-8</td>\n",
       "      <td>-2</td>\n",
       "      <td>21</td>\n",
       "    </tr>\n",
       "    <tr>\n",
       "      <th>dow</th>\n",
       "      <td>7</td>\n",
       "      <td>3.5</td>\n",
       "      <td>0</td>\n",
       "      <td>6</td>\n",
       "      <td>-10</td>\n",
       "      <td>1</td>\n",
       "      <td>16</td>\n",
       "    </tr>\n",
       "    <tr>\n",
       "      <th>holiday</th>\n",
       "      <td>1</td>\n",
       "      <td>0.0</td>\n",
       "      <td>0.0</td>\n",
       "      <td>0</td>\n",
       "      <td>0</td>\n",
       "      <td>0</td>\n",
       "      <td>0</td>\n",
       "    </tr>\n",
       "  </tbody>\n",
       "</table>\n",
       "</div>"
      ],
      "text/plain": [
       "           Unique Max_Point Min_Point Max_Score Min_Score Midean Range_Score\n",
       "peak            2       1.0       0.0       254       -24    115         278\n",
       "hour           24      18.5       3.5       131      -134     27         265\n",
       "Td            969   3.77055   25.1054        63      -112      9         175\n",
       "temp           49     30.75      9.43       100       -69     -6         169\n",
       "atemp          60   39.7725   13.2575        96       -41     -9         137\n",
       "woy            46      37.5      51.5        53       -77     -1         130\n",
       "windspeed      28   19.5004    39.999         5       -94     -5          99\n",
       "weather         4         1       2.5         5       -49    -24          54\n",
       "workingday      2       0.0       1.0        27       -12      7          39\n",
       "season          4       3.5         1        13        -8     -2          21\n",
       "dow             7       3.5         0         6       -10      1          16\n",
       "holiday         1       0.0       0.0         0         0      0           0"
      ]
     },
     "execution_count": 215,
     "metadata": {},
     "output_type": "execute_result"
    }
   ],
   "source": [
    "def get_EBM_MinMax_scorePoint(df, EBM_cols_dict):\n",
    "    EBM_Score_Min_max_df = dict()\n",
    "    for k,v in EBM_cols_dict.items():\n",
    "        EBM_Score_Min_max_df[k] = {'Unique':len(set(df[k])),'Max_Point':v['values'][v['scores'].index(max(v['scores']))],'Min_Point':v['values'][v['scores'].index(min(v['scores']))] ,'Max_Score' : int(max(v['scores'])), 'Min_Score' : int(min(v['scores'])), 'Midean' : int(np.median(v['scores']))}\n",
    "    EBM_Score_Min_max_df = pd.DataFrame(EBM_Score_Min_max_df).transpose()\n",
    "    EBM_Score_Min_max_df['Range_Score'] = EBM_Score_Min_max_df['Max_Score'] - EBM_Score_Min_max_df['Min_Score']\n",
    "    return EBM_Score_Min_max_df.sort_values('Range_Score',ascending=False)\n",
    "get_EBM_MinMax_scorePoint(train,EBM_cols_dict)\n"
   ]
  },
  {
   "cell_type": "code",
   "execution_count": 212,
   "metadata": {},
   "outputs": [
    {
     "data": {
      "text/plain": [
       "1    7460\n",
       "0    3426\n",
       "Name: workingday, dtype: int64"
      ]
     },
     "execution_count": 212,
     "metadata": {},
     "output_type": "execute_result"
    }
   ],
   "source": [
    "train['workingday'].value_counts()"
   ]
  },
  {
   "cell_type": "code",
   "execution_count": 131,
   "metadata": {},
   "outputs": [
    {
     "name": "stdout",
     "output_type": "stream",
     "text": [
      "-25.589304630352725\n"
     ]
    }
   ],
   "source": [
    "from scipy.stats import linregress\n",
    "x = ebm_global.data(0)['names'][1:]\n",
    "y = ebm_global.data(0)['scores']\n",
    "\n",
    "# slope, intercept, r_value, p_value, std_err = linregress(x, y)\n",
    "# print(slope)\n",
    "\n",
    "\n",
    "import numpy as np\n",
    "\n",
    "slope, intercept = np.polyfit(x,y,1)\n",
    "print(slope)"
   ]
  },
  {
   "cell_type": "code",
   "execution_count": 39,
   "metadata": {},
   "outputs": [
    {
     "data": {
      "text/html": [
       "<!-- http://127.0.0.1:7001/140363468588688/ -->\n",
       "<iframe src=\"http://127.0.0.1:7001/140363468588688/\" width=100% height=800 frameBorder=\"0\"></iframe>"
      ]
     },
     "metadata": {},
     "output_type": "display_data"
    }
   ],
   "source": [
    "ebm_local = ebm.explain_local(X_train, y_train)\n",
    "show(ebm_local)"
   ]
  },
  {
   "cell_type": "markdown",
   "metadata": {},
   "source": [
    "# 이건 뭐지"
   ]
  },
  {
   "cell_type": "code",
   "execution_count": 42,
   "metadata": {},
   "outputs": [
    {
     "data": {
      "text/html": [
       "<!-- http://127.0.0.1:7001/140363480820560/ -->\n",
       "<iframe src=\"http://127.0.0.1:7001/140363480820560/\" width=100% height=800 frameBorder=\"0\"></iframe>"
      ]
     },
     "metadata": {},
     "output_type": "display_data"
    }
   ],
   "source": [
    "from interpret.privacy import DPExplainableBoostingClassifier, DPExplainableBoostingRegressor\n",
    "\n",
    "dp_ebm = DPExplainableBoostingRegressor(epsilon=1, delta=1e-5) # Specify privacy parameters\n",
    "dp_ebm.fit(X_train, y_train)\n",
    "\n",
    "show(dp_ebm.explain_global()) # Identical function calls to standard EBMs"
   ]
  },
  {
   "cell_type": "code",
   "execution_count": null,
   "metadata": {},
   "outputs": [],
   "source": []
  }
 ],
 "metadata": {
  "kernelspec": {
   "display_name": "Python 3",
   "language": "python",
   "name": "python3"
  },
  "language_info": {
   "codemirror_mode": {
    "name": "ipython",
    "version": 3
   },
   "file_extension": ".py",
   "mimetype": "text/x-python",
   "name": "python",
   "nbconvert_exporter": "python",
   "pygments_lexer": "ipython3",
   "version": "3.7.9"
  }
 },
 "nbformat": 4,
 "nbformat_minor": 4
}
