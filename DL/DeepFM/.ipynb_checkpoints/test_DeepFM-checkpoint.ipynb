{
 "cells": [
  {
   "cell_type": "markdown",
   "id": "53763551",
   "metadata": {},
   "source": [
    "### 1. 실행"
   ]
  },
  {
   "cell_type": "code",
   "execution_count": 6,
   "id": "1730d94b",
   "metadata": {},
   "outputs": [
    {
     "name": "stdout",
     "output_type": "stream",
     "text": [
      "Data Prepared...\n",
      "X shape: (32561, 108)\n",
      "# of Feature: 108\n",
      "# of Field: 14\n",
      "train/test save complete\n",
      "Start Training: Batch Size: 256, Embedding Size: 5\n",
      "Epoch 000: 누적 Loss: 0.9217, Acc: 0.5844, AUC: 0.2980\n",
      "Epoch 001: 누적 Loss: 0.5744, Acc: 0.7579, AUC: 0.4469\n",
      "Epoch 002: 누적 Loss: 0.5062, Acc: 0.7591, AUC: 0.7697\n",
      "Epoch 003: 누적 Loss: 0.4839, Acc: 0.7603, AUC: 0.7710\n",
      "Epoch 004: 누적 Loss: 0.4709, Acc: 0.7647, AUC: 0.7784\n",
      "Epoch 005: 누적 Loss: 0.4608, Acc: 0.7704, AUC: 0.7884\n",
      "Epoch 006: 누적 Loss: 0.4522, Acc: 0.7778, AUC: 0.7971\n",
      "Epoch 007: 누적 Loss: 0.4444, Acc: 0.7853, AUC: 0.8052\n",
      "Epoch 008: 누적 Loss: 0.4380, Acc: 0.7905, AUC: 0.8120\n",
      "Epoch 009: 누적 Loss: 0.4317, Acc: 0.7947, AUC: 0.8184\n",
      "테스트 ACC: 0.7926, AUC: 0.8215\n",
      "Batch Size: 256, Embedding Size: 5\n",
      "걸린 시간: 31.767\n"
     ]
    }
   ],
   "source": [
    "from modules.train import train\n",
    "model = train(epochs=10)"
   ]
  },
  {
   "cell_type": "markdown",
   "id": "60bf71c6",
   "metadata": {},
   "source": [
    "### models load 후 tensor data predict"
   ]
  },
  {
   "cell_type": "code",
   "execution_count": 10,
   "id": "b71f361c",
   "metadata": {},
   "outputs": [
    {
     "name": "stdout",
     "output_type": "stream",
     "text": [
      "Data Prepared...\n",
      "X shape: (32561, 108)\n",
      "# of Feature: 108\n",
      "# of Field: 14\n",
      "train/test save complete\n",
      "테스트 ACC: 0.7936, AUC: 0.8253\n"
     ]
    }
   ],
   "source": [
    "from modules.train import get_data\n",
    "from modules.DeepFM import DeepFM\n",
    "import modules.config as config\n",
    "import tensorflow as tf\n",
    "from tensorflow.keras.metrics import BinaryAccuracy, AUC\n",
    "\n",
    "train_ds, test_ds, field_dict, field_index = get_data()\n",
    "\n",
    "fm = DeepFM(embedding_size=config.EMBEDDING_SIZE, num_feature=len(field_index),\n",
    "               num_field=len(field_dict), field_index=field_index)\n",
    "\n",
    "fm.build(input_shape = (1,len(field_index)))\n",
    "fm.load_weights('./weights/weights-epoch(10)-batch(256)-embedding(5).h5')\n",
    "\n",
    "test_acc = BinaryAccuracy(threshold=0.5)\n",
    "test_auc = AUC()\n",
    "for x, y in test_ds:\n",
    "    y_pred = fm(x)\n",
    "    test_acc.update_state(y, y_pred)\n",
    "    test_auc.update_state(y, y_pred)\n",
    "print(\"테스트 ACC: {:.4f}, AUC: {:.4f}\".format(test_acc.result().numpy(), test_auc.result().numpy()))"
   ]
  },
  {
   "cell_type": "markdown",
   "id": "82a3c08f",
   "metadata": {},
   "source": [
    "### models load 후 parquet data predict"
   ]
  },
  {
   "cell_type": "code",
   "execution_count": 16,
   "id": "c740fe02",
   "metadata": {},
   "outputs": [
    {
     "name": "stdout",
     "output_type": "stream",
     "text": [
      "테스트 ACC: 0.7936, AUC: 0.8253\n"
     ]
    }
   ],
   "source": [
    "import pandas as pd\n",
    "test = pd.read_parquet('data/test.parquet')\n",
    "\n",
    "test_acc = BinaryAccuracy(threshold=0.5)\n",
    "test_auc = AUC()\n",
    "y = test['target']\n",
    "y_pred = fm(test.drop('target',axis=1).values)\n",
    "test_acc.update_state(y, y_pred)\n",
    "test_auc.update_state(y, y_pred)\n",
    "print(\"테스트 ACC: {:.4f}, AUC: {:.4f}\".format(test_acc.result().numpy(), test_auc.result().numpy()))"
   ]
  },
  {
   "cell_type": "markdown",
   "id": "70514de3",
   "metadata": {},
   "source": [
    "### load한 모델과 실행되었던 모델의 성능 동일함"
   ]
  },
  {
   "cell_type": "code",
   "execution_count": 12,
   "id": "a7f36743",
   "metadata": {},
   "outputs": [
    {
     "name": "stdout",
     "output_type": "stream",
     "text": [
      "테스트 ACC: 0.7936, AUC: 0.8253\n"
     ]
    }
   ],
   "source": [
    "test_acc = BinaryAccuracy(threshold=0.5)\n",
    "test_auc = AUC()\n",
    "for x, y in test_ds:\n",
    "    y_pred = model(x)\n",
    "    test_acc.update_state(y, y_pred)\n",
    "    test_auc.update_state(y, y_pred)\n",
    "print(\"테스트 ACC: {:.4f}, AUC: {:.4f}\".format(test_acc.result().numpy(), test_auc.result().numpy()))"
   ]
  },
  {
   "cell_type": "code",
   "execution_count": null,
   "id": "529c08c5",
   "metadata": {},
   "outputs": [],
   "source": []
  }
 ],
 "metadata": {
  "kernelspec": {
   "display_name": "Python 3 (ipykernel)",
   "language": "python",
   "name": "python3"
  },
  "language_info": {
   "codemirror_mode": {
    "name": "ipython",
    "version": 3
   },
   "file_extension": ".py",
   "mimetype": "text/x-python",
   "name": "python",
   "nbconvert_exporter": "python",
   "pygments_lexer": "ipython3",
   "version": "3.8.15"
  }
 },
 "nbformat": 4,
 "nbformat_minor": 5
}
